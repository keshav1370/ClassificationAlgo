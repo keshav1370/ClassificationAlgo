{
  "nbformat": 4,
  "nbformat_minor": 0,
  "metadata": {
    "colab": {
      "name": "NN.ipynb",
      "provenance": [],
      "collapsed_sections": []
    },
    "kernelspec": {
      "display_name": "Python 3",
      "language": "python",
      "name": "python3"
    },
    "language_info": {
      "codemirror_mode": {
        "name": "ipython",
        "version": 3
      },
      "file_extension": ".py",
      "mimetype": "text/x-python",
      "name": "python",
      "nbconvert_exporter": "python",
      "pygments_lexer": "ipython3",
      "version": "3.8.5"
    }
  },
  "cells": [
    {
      "cell_type": "code",
      "metadata": {
        "id": "pE8figQWkLnb"
      },
      "source": [
        "import numpy as np\n",
        "import random\n",
        "import pandas as pd\n",
        "from matplotlib import pyplot as plt"
      ],
      "execution_count": 1,
      "outputs": []
    },
    {
      "cell_type": "code",
      "metadata": {
        "id": "NAdljesqkero"
      },
      "source": [
        "data = pd.read_csv('dataset_NN.csv')"
      ],
      "execution_count": 2,
      "outputs": []
    },
    {
      "cell_type": "code",
      "metadata": {
        "id": "Y2UbS0aMk0Fk"
      },
      "source": [
        "#Vectorize Y into one hot encoding\n",
        "def vector(Y):\n",
        "    yk = np.zeros((len(Y), np.unique(Y).shape[0]))\n",
        "    for x in range(len(Y)):\n",
        "        yk[x, int(Y[x,0]-1)] = 1\n",
        "    \n",
        "    return yk\n",
        "\n",
        "\n",
        "def split_and_vectorize(data):\n",
        "\n",
        "    #Dataframe to numpy array\n",
        "    data = data.to_numpy()\n",
        "    for k in range(len(np.unique(data[:,data.shape[1]-1]))):\n",
        "        #Unique indexes to sample\n",
        "        index = random.sample(range(200), 60)\n",
        "        index = np.array(index)\n",
        "\n",
        "        #Sampling indexes for training set\n",
        "        temp = data[index + k*200]\n",
        "\n",
        "        if k == 0:\n",
        "            df_test = temp\n",
        "\n",
        "            #List of indexes sampled\n",
        "            in_ls = index\n",
        "\n",
        "        else:\n",
        "            df_test = np.concatenate([df_test,temp], axis = 0)\n",
        "            in_ls = np.concatenate([in_ls, index + k*200])\n",
        "\n",
        "    #Deleting the sampled rows which was used to generate test set thereby we get training set\n",
        "    df_train = np.delete(data,in_ls,0)\n",
        "\n",
        "    #Shuffling Training and test set\n",
        "    np.random.shuffle(df_train)\n",
        "    np.random.shuffle(df_test)\n",
        "\n",
        "\n",
        "    #Attributes and Labels split\n",
        "    X_train = df_train[:, :6]\n",
        "    Y_train = df_train[:, 6]\n",
        "    Y_train = Y_train.reshape(len(Y_train), 1)\n",
        "    Y_train = vector(Y_train)\n",
        "\n",
        "    X_test = df_test[:, :6]\n",
        "    Y_test = df_test[:, 6]\n",
        "    Y_test = Y_test.reshape(len(Y_test), 1)\n",
        "    #Mean and std along all rows\n",
        "    mean_tr = X_train.mean(axis = 0)\n",
        "    std_tr = X_train.std(axis = 0)\n",
        "\n",
        "    mean_tes = X_test.mean(axis = 0)\n",
        "    std_tes = X_test.std(axis = 0)\n",
        "\n",
        "    #Normalization by subtracting by mean and dividing by standard deviation on only real attributes (other features are m-ary)\n",
        "    X_train[:, 3:6] =  (X_train[:, 3:6] - mean_tr[3:6])/std_tr[3:6]\n",
        "    X_test[:, 3:6] =  (X_test[:, 3:6] - mean_tes[3:6])/std_tes[3:6]\n",
        "\n",
        "    return X_train, Y_train, X_test, Y_test\n",
        "\n",
        "\n"
      ],
      "execution_count": 3,
      "outputs": []
    },
    {
      "cell_type": "code",
      "metadata": {
        "id": "ZL9hfdTCl-EB"
      },
      "source": [
        "x_t, y_t, x_te, y_te = split_and_vectorize(data)"
      ],
      "execution_count": 4,
      "outputs": []
    },
    {
      "cell_type": "code",
      "metadata": {
        "id": "2WBTda0Fl-s5"
      },
      "source": [
        "class NN:\n",
        "    def __init__(self, X_train, Y_train, X_test, Y_test):\n",
        "        self.X_train = X_train\n",
        "        self.Y_train = Y_train\n",
        "        self.X_test = X_test\n",
        "        self.Y_test = Y_test\n",
        "        self.weights = {}\n",
        "        self.activation = []\n",
        "        return\n",
        "\n",
        "    #Activation function and their derivatives.\n",
        "    def sigmoid(self,Z):\n",
        "        A = 1/(1+np.exp(-Z))\n",
        "        return A,Z\n",
        "\n",
        "    def relu(self,Z):\n",
        "        A = np.maximum(0,Z)\n",
        "        return A,Z\n",
        "\n",
        "    def tanh(self,Z):\n",
        "        A = np.tanh(Z)\n",
        "        return A,Z\n",
        "\n",
        "    #Softmax used at the end node to make probabilistic output with sum of output of all neurons adding to '1'\n",
        "    def softmax(self,Z):\n",
        "        A = np.exp(Z)\n",
        "        A = A/np.sum(A, axis = 0)\n",
        "        return A, Z\n",
        "\n",
        "    def leaky_relu(self,Z):\n",
        "        Z[Z < 0] = 0.01*Z[Z < 0]\n",
        "        A = Z\n",
        "        return A,Z\n",
        "\n",
        "    def sigmoid_der(self,dA, cache):\n",
        "        Z = cache\n",
        "    \n",
        "        s = 1/(1+np.exp(-Z))\n",
        "        dZ = dA * s * (1-s)\n",
        "\n",
        "        return dZ\n",
        "\n",
        "    def relu_der(self, dA, cache):\n",
        "        Z = cache\n",
        "    \n",
        "        dZ = np.array(dA, copy=True) \n",
        "        dZ[dZ <= 0] = 0\n",
        "    \n",
        "        return dZ\n",
        "\n",
        "    def tanh_der(self, dA, cache):\n",
        "        Z = cache\n",
        "        t, k = self.tanh(Z)\n",
        "        dZ = dA * (1 - np.square(k))\n",
        "\n",
        "        return dZ\n",
        "    \n",
        "    def leaky_relu_der(self, dA, cache):\n",
        "        Z = cache\n",
        "        dA = Z\n",
        "        dA[dA < 0] = 0.01\n",
        "        dA[dA >= 0] = 1 \n",
        "        \n",
        "        dZ = dA * Z\n",
        "\n",
        "        return dZ\n",
        "\n",
        "    def softmax_der(self, dA, cache):\n",
        "        Z = cache\n",
        "        t,k = self.softmax(Z)\n",
        "        dZ =  dA * (t - np.square(t))\n",
        "        return dZ\n",
        "    \n",
        "    #Initializing the weights of depending upon the dimensions specified by the user\n",
        "    #returns a dictionary of weights\n",
        "    def initialize(self,neuron_num):\n",
        "        weights = {}\n",
        "        for i in range(1, len(neuron_num)):\n",
        "            np.random.seed(1)\n",
        "            weights['W' + str(i)] = np.random.randn(neuron_num[i], neuron_num[i-1])\n",
        "            weights['b' + str(i)] = np.zeros((neuron_num[i], 1))\n",
        "\n",
        "        return weights\n",
        "\n",
        "    #Linear multiplication before applying activation function \n",
        "    #Multiplication is Z = W.A + b upon which later activation function is applied\n",
        "    def mul(self, A, W, b):\n",
        "        Z = np.matmul(W,A) + b\n",
        "        cache  = (A, W, b)\n",
        "        return Z, cache\n",
        "    #Applying activation function to the output\n",
        "    #Lin_cache stores the variable A_prev (output of previous layer), W, b (Weights of current layer)\n",
        "    #Activ_cache stores the output of current layer Z = f(W.A_prev + b) where f is the activation function of the current layer\n",
        "    def activation_forw(self, A_prev, W, b, activation):\n",
        "        if activation == 'sigmoid':\n",
        "            Z, lin_cache = self.mul(A_prev, W, b)\n",
        "            A, activ_cache = self.sigmoid(Z)\n",
        "        elif activation == 'tanh':\n",
        "            Z, lin_cache = self.mul(A_prev, W, b)\n",
        "            A, activ_cache = self.tanh(Z)\n",
        "        elif activation == 'relu':\n",
        "            Z, lin_cache = self.mul(A_prev, W, b)\n",
        "            A, activ_cache = self.relu(Z)\n",
        "        elif activation == 'leaky_relu':\n",
        "            Z, lin_cache = self.mul(A_prev, W, b)\n",
        "            A, activ_cache = self.leaky_relu(Z)\n",
        "        elif activation == 'softmax':\n",
        "            Z, lin_cache = self.mul(A_prev, W, b)\n",
        "            A, activ_cache = self.softmax(Z)\n",
        "        \n",
        "        cache = (lin_cache, activ_cache)\n",
        "        \n",
        "        return A, cache\n",
        "    \n",
        "    #Forward propagation step where the output of each hidden layer and final output layer is calculated and stored\n",
        "    def forw_prop(self, X, weights, activation):\n",
        "        caches = []\n",
        "        A = X.T\n",
        "        l = len(activation)\n",
        "        for i in range(1, l+1):\n",
        "            A_prev = A\n",
        "            A, cache = self.activation_forw(A_prev, weights['W'+str(i)], weights['b' + str(i)], activation[i-1])\n",
        "            caches.append(cache)\n",
        "        \n",
        "        return A, caches\n",
        "    \n",
        "    #Cost/ Cross-Entropy function of the Multiclass neural network\n",
        "    def cost(self, Y_cap, Y):\n",
        "        n = Y_cap.shape[1]\n",
        "        Y = Y.reshape(Y_cap.shape)\n",
        "        error = -(1/n)*(np.sum(Y*(np.log(Y_cap))))\n",
        "\n",
        "        return error\n",
        "\n",
        "    #Linear derivatives of weights and activation\n",
        "    def lin_back(self, dZ, cache):\n",
        "        A_prev, W, b = cache\n",
        "        n = A_prev.shape[1]\n",
        "        dW = (1/n) * np.matmul(dZ, A_prev.T) \n",
        "        db = (1/n) * np.sum(dZ, axis = 1, keepdims=True)\n",
        "        dA_prev = np.matmul(W.T, dZ)\n",
        "\n",
        "        return dA_prev, dW, db\n",
        "\n",
        "    #Derivatives of activation functions performed by using the stored value in lin_cache and activ_cache\n",
        "    def activ_back(self, dA, cache, activation):\n",
        "        lin_cache, activ_cache = cache\n",
        "\n",
        "        if activation == 'sigmoid':\n",
        "            dZ = self.sigmoid_der(dA, activ_cache)\n",
        "            dA_prev, dW, db = self.lin_back(dZ, lin_cache)\n",
        "\n",
        "        elif activation == 'tanh':\n",
        "            dZ = self.tanh_der(dA, activ_cache)\n",
        "            dA_prev, dW, db = self.lin_back(dZ, lin_cache)\n",
        "        \n",
        "        elif activation == 'relu':\n",
        "            dZ = self.relu_der(dA, activ_cache)\n",
        "            dA_prev, dW, db = self.lin_back(dZ, lin_cache)\n",
        "\n",
        "        elif activation == 'leaky_relu':\n",
        "            dZ = self.leaky_relu_der(dA, activ_cache)\n",
        "            dA_prev, dW, db = self.lin_back(dZ, lin_cache)\n",
        "        \n",
        "        elif activation == 'softmax':\n",
        "            dZ = self.softmax_der(dA, activ_cache)\n",
        "            dA_prev, dW, db = self.lin_back(dZ, lin_cache)\n",
        "\n",
        "        return dA_prev, dW, db\n",
        "\n",
        "\n",
        "    #Backpropagation step where gradients/derivatives of each weight of layer and acitvation is calculated returned as a dictionary\n",
        "    def back_prop(self, Y_cap, Y, caches, activation):\n",
        "        grads = {}\n",
        "        l = len(caches)\n",
        "        n = Y_cap.shape[1]\n",
        "        Y = Y.reshape(Y_cap.shape)\n",
        "\n",
        "        dA =  -(np.divide(Y, Y_cap))\n",
        "        cr_cache = caches[l-1]\n",
        "        grads[\"dA\"+str(l-1)], grads[\"dW\"+str(l)], grads[\"db\"+str(l)] = self.activ_back(dA, cr_cache, activation[l-1])\n",
        "\n",
        "        for i in reversed(range(l-1)):\n",
        "            cr_cache = caches[i]\n",
        "            grads[\"dA\"+str(i)], grads[\"dW\"+str(i+1)], grads[\"db\"+str(i+1)] = self.activ_back(grads[\"dA\"+str(i+1)], cr_cache, activation[i])\n",
        "\n",
        "        return grads\n",
        "\n",
        "    #Updating the weights w.r.t the learning rate provided by the user\n",
        "    def update_weights(self, weights, grads, learning_rate):\n",
        "\n",
        "        n = int(len(weights)/2)\n",
        "        for i in range(n):\n",
        "            weights['W'+str(i+1)] = weights['W'+str(i+1)] - learning_rate*grads['dW' + str(i+1)]\n",
        "            weights['b'+str(i+1)] = weights['b'+str(i+1)] - learning_rate*grads['db' + str(i+1)]\n",
        "\n",
        "        return weights\n",
        "\n",
        "    #Training the Neural Network on the given data. Returns cost after every 50 iterations    \n",
        "    def train(self, learning_rate, activation, neuron_num , batch_size, n_iter):\n",
        "        costs = []\n",
        "        neuron_num.insert(0,self.X_train.shape[1])\n",
        "        neuron_num.append(self.Y_train.shape[1])\n",
        "        acc = []\n",
        "        activation.append('softmax')\n",
        "        self.activation = activation\n",
        "        weights = self.initialize(neuron_num)\n",
        "        self.weights = {}\n",
        "        n = self.X_train.shape[0]\n",
        "\n",
        "\n",
        "        for i in range(n_iter):\n",
        "            str_add = (i*batch_size)%n\n",
        "            fin_add = (str_add + batch_size)%n\n",
        "            if fin_add == 0 or str_add > fin_add:\n",
        "                fin_add = n\n",
        "            \n",
        "\n",
        "            Y_cap, caches = self.forw_prop(self.X_train[str_add:fin_add,:], weights, activation)\n",
        "\n",
        "            temp = self.cost(Y_cap, self.Y_train[str_add:fin_add])\n",
        "\n",
        "            grads = self.back_prop(Y_cap, self.Y_train[str_add:fin_add], caches, activation)\n",
        "\n",
        "            weights = self.update_weights(weights, grads, learning_rate)\n",
        "\n",
        "            self.weights = weights\n",
        "            costs.append(temp)\n",
        "            acc.append(self.predict(self.X_test, self.Y_test))\n",
        "            if i%25 == 0:\n",
        "                print(\"Cost after \" + str(i) +\"th iteration is: \" + str(temp) )\n",
        "            \n",
        "\n",
        "        return weights, costs, acc\n",
        "\n",
        "    def predict(self, X_test, Y_test):\n",
        "        Y_cap, t = self.forw_prop(X_test, self.weights, self.activation)\n",
        "        Y_cap = Y_cap.T\n",
        "        Y_k = np.argmax(Y_cap, axis = 1).reshape(Y_cap.shape[0],1)\n",
        "        Y_k = Y_k + 1\n",
        "        ac = (Y_k == Y_test)*1\n",
        "        tp = np.sum(ac)\n",
        "        accuracy  = tp/len(ac)\n",
        "        print(\"Accuracy of the given network is: \" + str(accuracy*100)+ \"%\")\n",
        "        \n",
        "\n",
        "        return accuracy*100\n",
        "\n",
        "    #Relevant plots of cost\n",
        "    def plots(self, costs, acc):\n",
        "        k = len(costs)\n",
        "        x =  np.arange(k)+1   \n",
        "\n",
        "        plt.subplot(2,1,1)\n",
        "        plt.xlabel(\"Iteration\")\n",
        "        plt.ylabel(\"Cost\")\n",
        "        plt.plot(x, costs, 'r-')\n",
        "        plt.title(\"Cost per iteration\")\n",
        "\n",
        "        plt.subplot(2,1,2)\n",
        "        plt.xlabel(\"Iteration\")\n",
        "        plt.ylabel(\"Accuracy\")\n",
        "        plt.plot(x, acc, '-.')\n",
        "        plt.title(\"Accuracy per iteration\")\n",
        "\n",
        "\n",
        "        plt.show()\n",
        "\n",
        "        return\n",
        "\n",
        "\n",
        "            \n",
        "\n",
        "    "
      ],
      "execution_count": 5,
      "outputs": []
    },
    {
      "cell_type": "code",
      "metadata": {
        "id": "aGXnchRmmyWn"
      },
      "source": [
        "n = NN(x_t, y_t, x_te, y_te)"
      ],
      "execution_count": 6,
      "outputs": []
    },
    {
      "cell_type": "code",
      "metadata": {
        "colab": {
          "base_uri": "https://localhost:8080/"
        },
        "id": "b7FnGMc2mzCM",
        "outputId": "95fc0b22-54fa-405b-d2b8-075e59f3347c"
      },
      "source": [
        "#learning rate = 0.01 , one hidden layer\n",
        "w, c, a = n.train(0.01, ['relu'], [10], 3000, 200)"
      ],
      "execution_count": 7,
      "outputs": [
        {
          "output_type": "stream",
          "text": [
            "Accuracy of the given network is: 19.0%\n",
            "Cost after 0th iteration is: 13.724727666397598\n",
            "Accuracy of the given network is: 19.0%\n",
            "Accuracy of the given network is: 19.0%\n",
            "Accuracy of the given network is: 19.0%\n",
            "Accuracy of the given network is: 19.0%\n",
            "Accuracy of the given network is: 19.0%\n",
            "Accuracy of the given network is: 19.0%\n",
            "Accuracy of the given network is: 19.166666666666668%\n",
            "Accuracy of the given network is: 19.166666666666668%\n",
            "Accuracy of the given network is: 19.166666666666668%\n",
            "Accuracy of the given network is: 19.166666666666668%\n",
            "Accuracy of the given network is: 19.166666666666668%\n",
            "Accuracy of the given network is: 19.0%\n",
            "Accuracy of the given network is: 19.0%\n",
            "Accuracy of the given network is: 19.0%\n",
            "Accuracy of the given network is: 19.0%\n",
            "Accuracy of the given network is: 19.0%\n",
            "Accuracy of the given network is: 19.0%\n",
            "Accuracy of the given network is: 19.0%\n",
            "Accuracy of the given network is: 19.0%\n",
            "Accuracy of the given network is: 19.0%\n",
            "Accuracy of the given network is: 19.0%\n",
            "Accuracy of the given network is: 19.166666666666668%\n",
            "Accuracy of the given network is: 19.166666666666668%\n",
            "Accuracy of the given network is: 19.0%\n",
            "Accuracy of the given network is: 19.0%\n",
            "Cost after 25th iteration is: 10.875733436033606\n",
            "Accuracy of the given network is: 19.0%\n",
            "Accuracy of the given network is: 19.0%\n",
            "Accuracy of the given network is: 19.0%\n",
            "Accuracy of the given network is: 19.0%\n",
            "Accuracy of the given network is: 19.0%\n",
            "Accuracy of the given network is: 19.0%\n",
            "Accuracy of the given network is: 19.0%\n",
            "Accuracy of the given network is: 18.833333333333332%\n",
            "Accuracy of the given network is: 19.0%\n",
            "Accuracy of the given network is: 19.0%\n",
            "Accuracy of the given network is: 19.0%\n",
            "Accuracy of the given network is: 19.0%\n",
            "Accuracy of the given network is: 19.166666666666668%\n",
            "Accuracy of the given network is: 19.166666666666668%\n",
            "Accuracy of the given network is: 19.166666666666668%\n",
            "Accuracy of the given network is: 19.333333333333332%\n",
            "Accuracy of the given network is: 19.333333333333332%\n",
            "Accuracy of the given network is: 19.5%\n",
            "Accuracy of the given network is: 19.5%\n",
            "Accuracy of the given network is: 19.5%\n",
            "Accuracy of the given network is: 19.5%\n",
            "Accuracy of the given network is: 19.833333333333332%\n",
            "Accuracy of the given network is: 19.833333333333332%\n",
            "Accuracy of the given network is: 20.0%\n",
            "Accuracy of the given network is: 20.166666666666664%\n",
            "Cost after 50th iteration is: 9.938215645998879\n",
            "Accuracy of the given network is: 20.166666666666664%\n",
            "Accuracy of the given network is: 20.166666666666664%\n",
            "Accuracy of the given network is: 20.166666666666664%\n",
            "Accuracy of the given network is: 20.166666666666664%\n",
            "Accuracy of the given network is: 20.333333333333332%\n",
            "Accuracy of the given network is: 20.5%\n",
            "Accuracy of the given network is: 20.666666666666668%\n",
            "Accuracy of the given network is: 20.833333333333336%\n",
            "Accuracy of the given network is: 20.833333333333336%\n",
            "Accuracy of the given network is: 21.166666666666668%\n",
            "Accuracy of the given network is: 21.333333333333336%\n",
            "Accuracy of the given network is: 21.5%\n",
            "Accuracy of the given network is: 21.666666666666668%\n",
            "Accuracy of the given network is: 21.833333333333332%\n",
            "Accuracy of the given network is: 22.0%\n",
            "Accuracy of the given network is: 22.166666666666668%\n",
            "Accuracy of the given network is: 22.333333333333332%\n",
            "Accuracy of the given network is: 22.5%\n",
            "Accuracy of the given network is: 22.666666666666664%\n",
            "Accuracy of the given network is: 22.833333333333332%\n",
            "Accuracy of the given network is: 23.666666666666668%\n",
            "Accuracy of the given network is: 23.5%\n",
            "Accuracy of the given network is: 23.5%\n",
            "Accuracy of the given network is: 23.666666666666668%\n",
            "Accuracy of the given network is: 23.666666666666668%\n",
            "Cost after 75th iteration is: 9.409849588540862\n",
            "Accuracy of the given network is: 24.0%\n",
            "Accuracy of the given network is: 24.5%\n",
            "Accuracy of the given network is: 24.833333333333332%\n",
            "Accuracy of the given network is: 25.0%\n",
            "Accuracy of the given network is: 25.333333333333336%\n",
            "Accuracy of the given network is: 25.5%\n",
            "Accuracy of the given network is: 25.666666666666664%\n",
            "Accuracy of the given network is: 25.833333333333336%\n",
            "Accuracy of the given network is: 25.833333333333336%\n",
            "Accuracy of the given network is: 25.666666666666664%\n",
            "Accuracy of the given network is: 25.666666666666664%\n",
            "Accuracy of the given network is: 25.666666666666664%\n",
            "Accuracy of the given network is: 25.833333333333336%\n",
            "Accuracy of the given network is: 26.0%\n",
            "Accuracy of the given network is: 26.333333333333332%\n",
            "Accuracy of the given network is: 26.333333333333332%\n",
            "Accuracy of the given network is: 26.666666666666668%\n",
            "Accuracy of the given network is: 26.833333333333332%\n",
            "Accuracy of the given network is: 26.666666666666668%\n",
            "Accuracy of the given network is: 26.666666666666668%\n",
            "Accuracy of the given network is: 26.666666666666668%\n",
            "Accuracy of the given network is: 26.666666666666668%\n",
            "Accuracy of the given network is: 26.833333333333332%\n",
            "Accuracy of the given network is: 26.833333333333332%\n",
            "Accuracy of the given network is: 26.833333333333332%\n",
            "Cost after 100th iteration is: 8.098370990380575\n",
            "Accuracy of the given network is: 27.0%\n",
            "Accuracy of the given network is: 27.0%\n",
            "Accuracy of the given network is: 27.0%\n",
            "Accuracy of the given network is: 27.0%\n",
            "Accuracy of the given network is: 27.0%\n",
            "Accuracy of the given network is: 26.833333333333332%\n",
            "Accuracy of the given network is: 27.0%\n",
            "Accuracy of the given network is: 27.0%\n",
            "Accuracy of the given network is: 27.0%\n",
            "Accuracy of the given network is: 27.0%\n",
            "Accuracy of the given network is: 27.0%\n",
            "Accuracy of the given network is: 27.0%\n",
            "Accuracy of the given network is: 27.0%\n",
            "Accuracy of the given network is: 27.0%\n",
            "Accuracy of the given network is: 27.0%\n",
            "Accuracy of the given network is: 27.0%\n",
            "Accuracy of the given network is: 27.0%\n",
            "Accuracy of the given network is: 27.166666666666668%\n",
            "Accuracy of the given network is: 27.166666666666668%\n",
            "Accuracy of the given network is: 27.166666666666668%\n",
            "Accuracy of the given network is: 27.166666666666668%\n",
            "Accuracy of the given network is: 27.166666666666668%\n",
            "Accuracy of the given network is: 27.166666666666668%\n",
            "Accuracy of the given network is: 27.166666666666668%\n",
            "Accuracy of the given network is: 27.166666666666668%\n",
            "Cost after 125th iteration is: 7.893323337694993\n",
            "Accuracy of the given network is: 27.166666666666668%\n",
            "Accuracy of the given network is: 27.166666666666668%\n",
            "Accuracy of the given network is: 27.166666666666668%\n",
            "Accuracy of the given network is: 27.166666666666668%\n",
            "Accuracy of the given network is: 27.166666666666668%\n",
            "Accuracy of the given network is: 27.166666666666668%\n",
            "Accuracy of the given network is: 27.166666666666668%\n",
            "Accuracy of the given network is: 27.166666666666668%\n",
            "Accuracy of the given network is: 27.166666666666668%\n",
            "Accuracy of the given network is: 27.166666666666668%\n",
            "Accuracy of the given network is: 27.166666666666668%\n",
            "Accuracy of the given network is: 27.166666666666668%\n",
            "Accuracy of the given network is: 27.333333333333332%\n",
            "Accuracy of the given network is: 27.333333333333332%\n",
            "Accuracy of the given network is: 27.333333333333332%\n",
            "Accuracy of the given network is: 27.333333333333332%\n",
            "Accuracy of the given network is: 27.333333333333332%\n",
            "Accuracy of the given network is: 27.333333333333332%\n",
            "Accuracy of the given network is: 27.333333333333332%\n",
            "Accuracy of the given network is: 27.333333333333332%\n",
            "Accuracy of the given network is: 27.333333333333332%\n",
            "Accuracy of the given network is: 27.333333333333332%\n",
            "Accuracy of the given network is: 27.333333333333332%\n",
            "Accuracy of the given network is: 27.333333333333332%\n",
            "Accuracy of the given network is: 27.333333333333332%\n",
            "Cost after 150th iteration is: 6.992535523286082\n",
            "Accuracy of the given network is: 27.333333333333332%\n",
            "Accuracy of the given network is: 27.333333333333332%\n",
            "Accuracy of the given network is: 27.333333333333332%\n",
            "Accuracy of the given network is: 27.333333333333332%\n",
            "Accuracy of the given network is: 27.333333333333332%\n",
            "Accuracy of the given network is: 27.333333333333332%\n",
            "Accuracy of the given network is: 27.333333333333332%\n",
            "Accuracy of the given network is: 27.333333333333332%\n",
            "Accuracy of the given network is: 27.333333333333332%\n",
            "Accuracy of the given network is: 27.333333333333332%\n",
            "Accuracy of the given network is: 27.333333333333332%\n",
            "Accuracy of the given network is: 27.333333333333332%\n",
            "Accuracy of the given network is: 27.333333333333332%\n",
            "Accuracy of the given network is: 27.333333333333332%\n",
            "Accuracy of the given network is: 27.333333333333332%\n",
            "Accuracy of the given network is: 27.333333333333332%\n",
            "Accuracy of the given network is: 27.333333333333332%\n",
            "Accuracy of the given network is: 27.333333333333332%\n",
            "Accuracy of the given network is: 27.333333333333332%\n",
            "Accuracy of the given network is: 27.333333333333332%\n",
            "Accuracy of the given network is: 27.333333333333332%\n",
            "Accuracy of the given network is: 27.333333333333332%\n",
            "Accuracy of the given network is: 27.333333333333332%\n",
            "Accuracy of the given network is: 27.333333333333332%\n",
            "Accuracy of the given network is: 27.166666666666668%\n",
            "Cost after 175th iteration is: 7.5157763778290585\n",
            "Accuracy of the given network is: 27.166666666666668%\n",
            "Accuracy of the given network is: 27.166666666666668%\n",
            "Accuracy of the given network is: 27.166666666666668%\n",
            "Accuracy of the given network is: 27.166666666666668%\n",
            "Accuracy of the given network is: 27.166666666666668%\n",
            "Accuracy of the given network is: 27.166666666666668%\n",
            "Accuracy of the given network is: 27.166666666666668%\n",
            "Accuracy of the given network is: 27.166666666666668%\n",
            "Accuracy of the given network is: 27.166666666666668%\n",
            "Accuracy of the given network is: 27.166666666666668%\n",
            "Accuracy of the given network is: 27.166666666666668%\n",
            "Accuracy of the given network is: 27.166666666666668%\n",
            "Accuracy of the given network is: 27.166666666666668%\n",
            "Accuracy of the given network is: 27.166666666666668%\n",
            "Accuracy of the given network is: 27.166666666666668%\n",
            "Accuracy of the given network is: 27.166666666666668%\n",
            "Accuracy of the given network is: 27.166666666666668%\n",
            "Accuracy of the given network is: 27.166666666666668%\n",
            "Accuracy of the given network is: 27.166666666666668%\n",
            "Accuracy of the given network is: 27.166666666666668%\n",
            "Accuracy of the given network is: 27.166666666666668%\n",
            "Accuracy of the given network is: 27.166666666666668%\n",
            "Accuracy of the given network is: 27.166666666666668%\n",
            "Accuracy of the given network is: 27.166666666666668%\n"
          ],
          "name": "stdout"
        }
      ]
    },
    {
      "cell_type": "code",
      "metadata": {
        "colab": {
          "base_uri": "https://localhost:8080/",
          "height": 295
        },
        "id": "dyv4QW99Zq7d",
        "outputId": "d5b9fd81-81a3-4138-9938-e068d6a3f6f2"
      },
      "source": [
        "n.plots(c,a) "
      ],
      "execution_count": 8,
      "outputs": [
        {
          "output_type": "display_data",
          "data": {
            "image/png": "[encoded data removed]",
            "text/plain": [
              "<Figure size 432x288 with 2 Axes>"
            ]
          },
          "metadata": {
            "tags": [],
            "needs_background": "light"
          }
        }
      ]
    },
    {
      "cell_type": "code",
      "metadata": {
        "colab": {
          "base_uri": "https://localhost:8080/"
        },
        "id": "-s3jgwXbwONF",
        "outputId": "2a09f438-3d24-4e2d-fa82-06f46d9ef82d"
      },
      "source": [
        "c[-1]"
      ],
      "execution_count": 9,
      "outputs": [
        {
          "output_type": "execute_result",
          "data": {
            "text/plain": [
              "6.182176433575287"
            ]
          },
          "metadata": {
            "tags": []
          },
          "execution_count": 9
        }
      ]
    },
    {
      "cell_type": "code",
      "metadata": {
        "colab": {
          "base_uri": "https://localhost:8080/"
        },
        "id": "Qn9ivT6dZaUs",
        "outputId": "f9ea1b35-67d6-4165-cd54-51905f762e9a"
      },
      "source": [
        "a[-1]"
      ],
      "execution_count": 10,
      "outputs": [
        {
          "output_type": "execute_result",
          "data": {
            "text/plain": [
              "27.166666666666668"
            ]
          },
          "metadata": {
            "tags": []
          },
          "execution_count": 10
        }
      ]
    },
    {
      "cell_type": "code",
      "metadata": {
        "colab": {
          "base_uri": "https://localhost:8080/"
        },
        "id": "jw6aOd-vNXlg",
        "outputId": "d01558ae-8b42-4906-8936-857fe4daa9ac"
      },
      "source": [
        "#learning rate = 0.1 , one hidden layer\n",
        "w, c, a = n.train(0.1, ['relu'], [10], 3000, 50)"
      ],
      "execution_count": 11,
      "outputs": [
        {
          "output_type": "stream",
          "text": [
            "Accuracy of the given network is: 19.166666666666668%\n",
            "Cost after 0th iteration is: 13.724727666397598\n",
            "Accuracy of the given network is: 19.0%\n",
            "Accuracy of the given network is: 19.0%\n",
            "Accuracy of the given network is: 19.5%\n",
            "Accuracy of the given network is: 20.166666666666664%\n",
            "Accuracy of the given network is: 20.833333333333336%\n",
            "Accuracy of the given network is: 23.166666666666664%\n",
            "Accuracy of the given network is: 25.0%\n",
            "Accuracy of the given network is: 26.333333333333332%\n",
            "Accuracy of the given network is: 26.833333333333332%\n",
            "Accuracy of the given network is: 27.0%\n",
            "Accuracy of the given network is: 27.166666666666668%\n",
            "Accuracy of the given network is: 27.166666666666668%\n",
            "Accuracy of the given network is: 27.333333333333332%\n",
            "Accuracy of the given network is: 27.333333333333332%\n",
            "Accuracy of the given network is: 27.333333333333332%\n",
            "Accuracy of the given network is: 27.333333333333332%\n",
            "Accuracy of the given network is: 27.166666666666668%\n",
            "Accuracy of the given network is: 27.166666666666668%\n",
            "Accuracy of the given network is: 27.166666666666668%\n",
            "Accuracy of the given network is: 27.0%\n",
            "Accuracy of the given network is: 27.0%\n",
            "Accuracy of the given network is: 27.0%\n",
            "Accuracy of the given network is: 26.833333333333332%\n",
            "Accuracy of the given network is: 26.666666666666668%\n",
            "Accuracy of the given network is: 26.666666666666668%\n",
            "Cost after 25th iteration is: 5.513495977141431\n",
            "Accuracy of the given network is: 26.5%\n",
            "Accuracy of the given network is: 26.5%\n",
            "Accuracy of the given network is: 26.333333333333332%\n",
            "Accuracy of the given network is: 26.166666666666664%\n",
            "Accuracy of the given network is: 26.166666666666664%\n",
            "Accuracy of the given network is: 26.166666666666664%\n",
            "Accuracy of the given network is: 26.166666666666664%\n",
            "Accuracy of the given network is: 26.5%\n",
            "Accuracy of the given network is: 26.333333333333332%\n",
            "Accuracy of the given network is: 26.333333333333332%\n",
            "Accuracy of the given network is: 26.666666666666668%\n",
            "Accuracy of the given network is: 27.500000000000004%\n",
            "Accuracy of the given network is: 27.666666666666668%\n",
            "Accuracy of the given network is: 27.833333333333332%\n",
            "Accuracy of the given network is: 28.333333333333332%\n",
            "Accuracy of the given network is: 28.833333333333332%\n",
            "Accuracy of the given network is: 28.499999999999996%\n",
            "Accuracy of the given network is: 28.499999999999996%\n",
            "Accuracy of the given network is: 28.166666666666668%\n",
            "Accuracy of the given network is: 28.166666666666668%\n",
            "Accuracy of the given network is: 28.333333333333332%\n",
            "Accuracy of the given network is: 28.166666666666668%\n",
            "Accuracy of the given network is: 27.666666666666668%\n",
            "Accuracy of the given network is: 27.166666666666668%\n"
          ],
          "name": "stdout"
        }
      ]
    },
    {
      "cell_type": "code",
      "metadata": {
        "colab": {
          "base_uri": "https://localhost:8080/",
          "height": 295
        },
        "id": "WjvLPhNdNXlg",
        "outputId": "40b0171a-6aae-4b53-9303-eaca6d435314"
      },
      "source": [
        "n.plots(c,a) "
      ],
      "execution_count": 12,
      "outputs": [
        {
          "output_type": "display_data",
          "data": {
            "image/png": "[encoded data removed]",
            "text/plain": [
              "<Figure size 432x288 with 2 Axes>"
            ]
          },
          "metadata": {
            "tags": [],
            "needs_background": "light"
          }
        }
      ]
    },
    {
      "cell_type": "code",
      "metadata": {
        "colab": {
          "base_uri": "https://localhost:8080/"
        },
        "id": "dztoCi-UNXlh",
        "outputId": "6623ab62-ef73-48c9-943a-21e1df847295"
      },
      "source": [
        "c[-1]"
      ],
      "execution_count": 13,
      "outputs": [
        {
          "output_type": "execute_result",
          "data": {
            "text/plain": [
              "5.169057131807213"
            ]
          },
          "metadata": {
            "tags": []
          },
          "execution_count": 13
        }
      ]
    },
    {
      "cell_type": "code",
      "metadata": {
        "colab": {
          "base_uri": "https://localhost:8080/"
        },
        "id": "cmAXRNF5NXlh",
        "outputId": "95fbcfbf-6cd2-4d20-c41a-86b4f1923a63"
      },
      "source": [
        "a[-1]"
      ],
      "execution_count": 14,
      "outputs": [
        {
          "output_type": "execute_result",
          "data": {
            "text/plain": [
              "27.166666666666668"
            ]
          },
          "metadata": {
            "tags": []
          },
          "execution_count": 14
        }
      ]
    },
    {
      "cell_type": "code",
      "metadata": {
        "colab": {
          "base_uri": "https://localhost:8080/"
        },
        "id": "rvjD04peNXli",
        "outputId": "b3d4e854-3f2f-4391-a2c2-84e27c587bf0"
      },
      "source": [
        "#learning rate = 0.001 , one hidden layer\n",
        "w, c, a = n.train(0.001, ['relu'], [10], 3000, 200)"
      ],
      "execution_count": 15,
      "outputs": [
        {
          "output_type": "stream",
          "text": [
            "Accuracy of the given network is: 19.0%\n",
            "Cost after 0th iteration is: 13.724727666397598\n",
            "Accuracy of the given network is: 19.0%\n",
            "Accuracy of the given network is: 19.0%\n",
            "Accuracy of the given network is: 19.0%\n",
            "Accuracy of the given network is: 19.0%\n",
            "Accuracy of the given network is: 19.0%\n",
            "Accuracy of the given network is: 19.0%\n",
            "Accuracy of the given network is: 19.0%\n",
            "Accuracy of the given network is: 19.0%\n",
            "Accuracy of the given network is: 19.0%\n",
            "Accuracy of the given network is: 19.0%\n",
            "Accuracy of the given network is: 19.0%\n",
            "Accuracy of the given network is: 19.0%\n",
            "Accuracy of the given network is: 19.0%\n",
            "Accuracy of the given network is: 19.0%\n",
            "Accuracy of the given network is: 19.0%\n",
            "Accuracy of the given network is: 19.0%\n",
            "Accuracy of the given network is: 19.0%\n",
            "Accuracy of the given network is: 19.0%\n",
            "Accuracy of the given network is: 19.0%\n",
            "Accuracy of the given network is: 19.0%\n",
            "Accuracy of the given network is: 19.0%\n",
            "Accuracy of the given network is: 19.0%\n",
            "Accuracy of the given network is: 19.0%\n",
            "Accuracy of the given network is: 19.0%\n",
            "Accuracy of the given network is: 19.0%\n",
            "Cost after 25th iteration is: 12.053485500884271\n",
            "Accuracy of the given network is: 19.0%\n",
            "Accuracy of the given network is: 19.0%\n",
            "Accuracy of the given network is: 19.0%\n",
            "Accuracy of the given network is: 19.0%\n",
            "Accuracy of the given network is: 19.0%\n",
            "Accuracy of the given network is: 19.0%\n",
            "Accuracy of the given network is: 19.0%\n",
            "Accuracy of the given network is: 19.0%\n",
            "Accuracy of the given network is: 19.0%\n",
            "Accuracy of the given network is: 19.0%\n",
            "Accuracy of the given network is: 19.0%\n",
            "Accuracy of the given network is: 19.0%\n",
            "Accuracy of the given network is: 19.0%\n",
            "Accuracy of the given network is: 19.0%\n",
            "Accuracy of the given network is: 19.0%\n",
            "Accuracy of the given network is: 19.0%\n",
            "Accuracy of the given network is: 19.0%\n",
            "Accuracy of the given network is: 19.0%\n",
            "Accuracy of the given network is: 19.0%\n",
            "Accuracy of the given network is: 19.0%\n",
            "Accuracy of the given network is: 19.0%\n",
            "Accuracy of the given network is: 19.0%\n",
            "Accuracy of the given network is: 19.0%\n",
            "Accuracy of the given network is: 19.0%\n",
            "Accuracy of the given network is: 19.0%\n",
            "Cost after 50th iteration is: 12.073487804209995\n",
            "Accuracy of the given network is: 19.0%\n",
            "Accuracy of the given network is: 19.0%\n",
            "Accuracy of the given network is: 19.0%\n",
            "Accuracy of the given network is: 19.0%\n",
            "Accuracy of the given network is: 19.0%\n",
            "Accuracy of the given network is: 19.0%\n",
            "Accuracy of the given network is: 19.0%\n",
            "Accuracy of the given network is: 19.0%\n",
            "Accuracy of the given network is: 19.0%\n",
            "Accuracy of the given network is: 19.0%\n",
            "Accuracy of the given network is: 19.0%\n",
            "Accuracy of the given network is: 19.0%\n",
            "Accuracy of the given network is: 19.0%\n",
            "Accuracy of the given network is: 19.0%\n",
            "Accuracy of the given network is: 19.0%\n",
            "Accuracy of the given network is: 19.0%\n",
            "Accuracy of the given network is: 19.0%\n",
            "Accuracy of the given network is: 19.0%\n",
            "Accuracy of the given network is: 19.0%\n",
            "Accuracy of the given network is: 19.0%\n",
            "Accuracy of the given network is: 19.0%\n",
            "Accuracy of the given network is: 19.0%\n",
            "Accuracy of the given network is: 19.166666666666668%\n",
            "Accuracy of the given network is: 19.166666666666668%\n",
            "Accuracy of the given network is: 19.166666666666668%\n",
            "Cost after 75th iteration is: 12.52968821164618\n",
            "Accuracy of the given network is: 19.166666666666668%\n",
            "Accuracy of the given network is: 19.166666666666668%\n",
            "Accuracy of the given network is: 19.166666666666668%\n",
            "Accuracy of the given network is: 19.166666666666668%\n",
            "Accuracy of the given network is: 19.166666666666668%\n",
            "Accuracy of the given network is: 19.166666666666668%\n",
            "Accuracy of the given network is: 19.166666666666668%\n",
            "Accuracy of the given network is: 19.166666666666668%\n",
            "Accuracy of the given network is: 19.166666666666668%\n",
            "Accuracy of the given network is: 19.166666666666668%\n",
            "Accuracy of the given network is: 19.166666666666668%\n",
            "Accuracy of the given network is: 19.166666666666668%\n",
            "Accuracy of the given network is: 19.166666666666668%\n",
            "Accuracy of the given network is: 19.166666666666668%\n",
            "Accuracy of the given network is: 19.166666666666668%\n",
            "Accuracy of the given network is: 19.166666666666668%\n",
            "Accuracy of the given network is: 19.166666666666668%\n",
            "Accuracy of the given network is: 19.166666666666668%\n",
            "Accuracy of the given network is: 19.166666666666668%\n",
            "Accuracy of the given network is: 19.166666666666668%\n",
            "Accuracy of the given network is: 19.166666666666668%\n",
            "Accuracy of the given network is: 19.166666666666668%\n",
            "Accuracy of the given network is: 19.166666666666668%\n",
            "Accuracy of the given network is: 19.166666666666668%\n",
            "Accuracy of the given network is: 19.166666666666668%\n",
            "Cost after 100th iteration is: 11.47465159740853\n",
            "Accuracy of the given network is: 19.166666666666668%\n",
            "Accuracy of the given network is: 19.166666666666668%\n",
            "Accuracy of the given network is: 19.166666666666668%\n",
            "Accuracy of the given network is: 19.166666666666668%\n",
            "Accuracy of the given network is: 19.166666666666668%\n",
            "Accuracy of the given network is: 19.166666666666668%\n",
            "Accuracy of the given network is: 19.166666666666668%\n",
            "Accuracy of the given network is: 19.166666666666668%\n",
            "Accuracy of the given network is: 19.166666666666668%\n",
            "Accuracy of the given network is: 19.166666666666668%\n",
            "Accuracy of the given network is: 19.166666666666668%\n",
            "Accuracy of the given network is: 19.166666666666668%\n",
            "Accuracy of the given network is: 19.166666666666668%\n",
            "Accuracy of the given network is: 19.166666666666668%\n",
            "Accuracy of the given network is: 19.166666666666668%\n",
            "Accuracy of the given network is: 19.166666666666668%\n",
            "Accuracy of the given network is: 19.166666666666668%\n",
            "Accuracy of the given network is: 19.166666666666668%\n",
            "Accuracy of the given network is: 19.166666666666668%\n",
            "Accuracy of the given network is: 19.166666666666668%\n",
            "Accuracy of the given network is: 19.166666666666668%\n",
            "Accuracy of the given network is: 19.166666666666668%\n",
            "Accuracy of the given network is: 19.166666666666668%\n",
            "Accuracy of the given network is: 19.0%\n",
            "Accuracy of the given network is: 19.0%\n",
            "Cost after 125th iteration is: 12.024521047744443\n",
            "Accuracy of the given network is: 19.0%\n",
            "Accuracy of the given network is: 19.0%\n",
            "Accuracy of the given network is: 19.0%\n",
            "Accuracy of the given network is: 19.0%\n",
            "Accuracy of the given network is: 19.0%\n",
            "Accuracy of the given network is: 19.0%\n",
            "Accuracy of the given network is: 19.0%\n",
            "Accuracy of the given network is: 19.0%\n",
            "Accuracy of the given network is: 19.0%\n",
            "Accuracy of the given network is: 19.0%\n",
            "Accuracy of the given network is: 19.0%\n",
            "Accuracy of the given network is: 19.0%\n",
            "Accuracy of the given network is: 19.0%\n",
            "Accuracy of the given network is: 19.0%\n",
            "Accuracy of the given network is: 19.0%\n",
            "Accuracy of the given network is: 19.0%\n",
            "Accuracy of the given network is: 19.0%\n",
            "Accuracy of the given network is: 19.0%\n",
            "Accuracy of the given network is: 19.0%\n",
            "Accuracy of the given network is: 19.0%\n",
            "Accuracy of the given network is: 19.0%\n",
            "Accuracy of the given network is: 19.0%\n",
            "Accuracy of the given network is: 19.0%\n",
            "Accuracy of the given network is: 19.0%\n",
            "Accuracy of the given network is: 19.0%\n",
            "Cost after 150th iteration is: 11.59799008979329\n",
            "Accuracy of the given network is: 19.0%\n",
            "Accuracy of the given network is: 19.0%\n",
            "Accuracy of the given network is: 19.0%\n",
            "Accuracy of the given network is: 19.0%\n",
            "Accuracy of the given network is: 19.0%\n",
            "Accuracy of the given network is: 19.0%\n",
            "Accuracy of the given network is: 19.0%\n",
            "Accuracy of the given network is: 19.0%\n",
            "Accuracy of the given network is: 19.0%\n",
            "Accuracy of the given network is: 19.0%\n",
            "Accuracy of the given network is: 19.0%\n",
            "Accuracy of the given network is: 19.0%\n",
            "Accuracy of the given network is: 19.0%\n",
            "Accuracy of the given network is: 19.0%\n",
            "Accuracy of the given network is: 19.0%\n",
            "Accuracy of the given network is: 19.0%\n",
            "Accuracy of the given network is: 19.0%\n",
            "Accuracy of the given network is: 19.0%\n",
            "Accuracy of the given network is: 19.0%\n",
            "Accuracy of the given network is: 19.0%\n",
            "Accuracy of the given network is: 19.0%\n",
            "Accuracy of the given network is: 19.0%\n",
            "Accuracy of the given network is: 19.0%\n",
            "Accuracy of the given network is: 19.0%\n",
            "Accuracy of the given network is: 19.0%\n",
            "Cost after 175th iteration is: 12.680829398498634\n",
            "Accuracy of the given network is: 19.0%\n",
            "Accuracy of the given network is: 19.0%\n",
            "Accuracy of the given network is: 19.0%\n",
            "Accuracy of the given network is: 19.0%\n",
            "Accuracy of the given network is: 19.0%\n",
            "Accuracy of the given network is: 19.0%\n",
            "Accuracy of the given network is: 19.0%\n",
            "Accuracy of the given network is: 19.0%\n",
            "Accuracy of the given network is: 19.0%\n",
            "Accuracy of the given network is: 19.0%\n",
            "Accuracy of the given network is: 19.0%\n",
            "Accuracy of the given network is: 19.0%\n",
            "Accuracy of the given network is: 19.0%\n",
            "Accuracy of the given network is: 19.0%\n",
            "Accuracy of the given network is: 19.0%\n",
            "Accuracy of the given network is: 19.0%\n",
            "Accuracy of the given network is: 19.0%\n",
            "Accuracy of the given network is: 19.0%\n",
            "Accuracy of the given network is: 19.0%\n",
            "Accuracy of the given network is: 19.0%\n",
            "Accuracy of the given network is: 19.0%\n",
            "Accuracy of the given network is: 19.0%\n",
            "Accuracy of the given network is: 19.0%\n",
            "Accuracy of the given network is: 19.0%\n"
          ],
          "name": "stdout"
        }
      ]
    },
    {
      "cell_type": "code",
      "metadata": {
        "colab": {
          "base_uri": "https://localhost:8080/",
          "height": 295
        },
        "id": "4wnlj16GNXli",
        "outputId": "91972e07-7156-45ef-d0be-7783264c092d"
      },
      "source": [
        "n.plots(c,a) "
      ],
      "execution_count": 16,
      "outputs": [
        {
          "output_type": "display_data",
          "data": {
            "image/png": "[encoded data removed]",
            "text/plain": [
              "<Figure size 432x288 with 2 Axes>"
            ]
          },
          "metadata": {
            "tags": [],
            "needs_background": "light"
          }
        }
      ]
    },
    {
      "cell_type": "code",
      "metadata": {
        "colab": {
          "base_uri": "https://localhost:8080/"
        },
        "id": "QYmOB9pyNXlj",
        "outputId": "199c3735-f8fd-4993-de98-d86fc1da5317"
      },
      "source": [
        "c[-1]"
      ],
      "execution_count": 17,
      "outputs": [
        {
          "output_type": "execute_result",
          "data": {
            "text/plain": [
              "11.344473824989878"
            ]
          },
          "metadata": {
            "tags": []
          },
          "execution_count": 17
        }
      ]
    },
    {
      "cell_type": "code",
      "metadata": {
        "colab": {
          "base_uri": "https://localhost:8080/"
        },
        "id": "cMGnPeMFNXlj",
        "outputId": "b2ac52d9-22b1-4eba-8e37-dd1f404b4450"
      },
      "source": [
        "a[-1]"
      ],
      "execution_count": 18,
      "outputs": [
        {
          "output_type": "execute_result",
          "data": {
            "text/plain": [
              "19.0"
            ]
          },
          "metadata": {
            "tags": []
          },
          "execution_count": 18
        }
      ]
    },
    {
      "cell_type": "code",
      "metadata": {
        "colab": {
          "base_uri": "https://localhost:8080/"
        },
        "id": "0D2bIkH1NXlj",
        "outputId": "5931a87f-8cd2-4d2c-d000-bbb6f1558bd7"
      },
      "source": [
        "#learning rate = 0.01 , two hidden layers\n",
        "w, c, a = n.train(0.01, ['relu','relu'], [10,5], 3000, 25)"
      ],
      "execution_count": 19,
      "outputs": [
        {
          "output_type": "stream",
          "text": [
            "Accuracy of the given network is: 23.833333333333336%\n",
            "Cost after 0th iteration is: 11.957789287596855\n",
            "Accuracy of the given network is: 23.833333333333336%\n",
            "Accuracy of the given network is: 24.0%\n",
            "Accuracy of the given network is: 24.166666666666668%\n",
            "Accuracy of the given network is: 24.5%\n",
            "Accuracy of the given network is: 24.666666666666668%\n",
            "Accuracy of the given network is: 24.666666666666668%\n",
            "Accuracy of the given network is: 24.833333333333332%\n",
            "Accuracy of the given network is: 25.0%\n",
            "Accuracy of the given network is: 25.0%\n",
            "Accuracy of the given network is: 25.5%\n",
            "Accuracy of the given network is: 25.666666666666664%\n",
            "Accuracy of the given network is: 26.333333333333332%\n",
            "Accuracy of the given network is: 26.833333333333332%\n",
            "Accuracy of the given network is: 27.500000000000004%\n",
            "Accuracy of the given network is: 28.333333333333332%\n",
            "Accuracy of the given network is: 30.166666666666668%\n",
            "Accuracy of the given network is: 30.833333333333336%\n",
            "Accuracy of the given network is: 32.0%\n",
            "Accuracy of the given network is: 32.0%\n",
            "Accuracy of the given network is: 32.33333333333333%\n",
            "Accuracy of the given network is: 32.33333333333333%\n",
            "Accuracy of the given network is: 32.666666666666664%\n",
            "Accuracy of the given network is: 33.5%\n",
            "Accuracy of the given network is: 33.666666666666664%\n"
          ],
          "name": "stdout"
        }
      ]
    },
    {
      "cell_type": "code",
      "metadata": {
        "colab": {
          "base_uri": "https://localhost:8080/",
          "height": 295
        },
        "id": "Gq55TdJDNXlk",
        "outputId": "002e7b13-97b1-416e-d27a-574288b86e43"
      },
      "source": [
        "n.plots(c,a) "
      ],
      "execution_count": 20,
      "outputs": [
        {
          "output_type": "display_data",
          "data": {
            "image/png": "[encoded data removed]",
            "text/plain": [
              "<Figure size 432x288 with 2 Axes>"
            ]
          },
          "metadata": {
            "tags": [],
            "needs_background": "light"
          }
        }
      ]
    },
    {
      "cell_type": "code",
      "metadata": {
        "colab": {
          "base_uri": "https://localhost:8080/"
        },
        "id": "cslaRzgJNXlk",
        "outputId": "45850aea-7d03-4541-a3a7-5684d623c312"
      },
      "source": [
        "c[-1]"
      ],
      "execution_count": 21,
      "outputs": [
        {
          "output_type": "execute_result",
          "data": {
            "text/plain": [
              "7.818347299782938"
            ]
          },
          "metadata": {
            "tags": []
          },
          "execution_count": 21
        }
      ]
    },
    {
      "cell_type": "code",
      "metadata": {
        "colab": {
          "base_uri": "https://localhost:8080/"
        },
        "id": "tdC9SZmvNXll",
        "outputId": "a40feb49-f47a-4094-f70f-b65b10fccb46"
      },
      "source": [
        "a[-1]"
      ],
      "execution_count": 22,
      "outputs": [
        {
          "output_type": "execute_result",
          "data": {
            "text/plain": [
              "33.666666666666664"
            ]
          },
          "metadata": {
            "tags": []
          },
          "execution_count": 22
        }
      ]
    },
    {
      "cell_type": "code",
      "metadata": {
        "colab": {
          "base_uri": "https://localhost:8080/"
        },
        "id": "FAV30OKsNXll",
        "outputId": "bc3bbd39-16a3-46fb-d906-cbdf82ca179c"
      },
      "source": [
        "#learning rate = 0.1 , two hidden layers\n",
        "w, c, a = n.train(0.1, ['relu','relu'], [10,5], 3000, 185)"
      ],
      "execution_count": 23,
      "outputs": [
        {
          "output_type": "stream",
          "text": [
            "Accuracy of the given network is: 24.833333333333332%\n",
            "Cost after 0th iteration is: 11.957789287596855\n",
            "Accuracy of the given network is: 32.166666666666664%\n",
            "Accuracy of the given network is: 33.5%\n",
            "Accuracy of the given network is: 28.000000000000004%\n",
            "Accuracy of the given network is: 22.666666666666664%\n",
            "Accuracy of the given network is: 19.833333333333332%\n",
            "Accuracy of the given network is: 10.333333333333334%\n",
            "Accuracy of the given network is: 8.833333333333334%\n",
            "Accuracy of the given network is: 9.0%\n",
            "Accuracy of the given network is: 17.666666666666668%\n",
            "Accuracy of the given network is: 17.333333333333336%\n",
            "Accuracy of the given network is: 17.166666666666668%\n",
            "Accuracy of the given network is: 17.0%\n",
            "Accuracy of the given network is: 17.166666666666668%\n",
            "Accuracy of the given network is: 8.0%\n",
            "Accuracy of the given network is: 8.833333333333334%\n",
            "Accuracy of the given network is: 10.0%\n",
            "Accuracy of the given network is: 18.833333333333332%\n",
            "Accuracy of the given network is: 18.833333333333332%\n",
            "Accuracy of the given network is: 18.833333333333332%\n",
            "Accuracy of the given network is: 18.833333333333332%\n",
            "Accuracy of the given network is: 9.166666666666666%\n",
            "Accuracy of the given network is: 9.166666666666666%\n",
            "Accuracy of the given network is: 9.833333333333332%\n",
            "Accuracy of the given network is: 18.833333333333332%\n",
            "Accuracy of the given network is: 18.833333333333332%\n",
            "Cost after 25th iteration is: 3.5706483527986075\n",
            "Accuracy of the given network is: 18.833333333333332%\n",
            "Accuracy of the given network is: 18.833333333333332%\n",
            "Accuracy of the given network is: 9.166666666666666%\n",
            "Accuracy of the given network is: 9.166666666666666%\n",
            "Accuracy of the given network is: 9.833333333333332%\n",
            "Accuracy of the given network is: 18.833333333333332%\n",
            "Accuracy of the given network is: 18.833333333333332%\n",
            "Accuracy of the given network is: 18.833333333333332%\n",
            "Accuracy of the given network is: 18.833333333333332%\n",
            "Accuracy of the given network is: 9.166666666666666%\n",
            "Accuracy of the given network is: 9.166666666666666%\n",
            "Accuracy of the given network is: 9.833333333333332%\n",
            "Accuracy of the given network is: 18.833333333333332%\n",
            "Accuracy of the given network is: 18.833333333333332%\n",
            "Accuracy of the given network is: 18.833333333333332%\n",
            "Accuracy of the given network is: 18.833333333333332%\n",
            "Accuracy of the given network is: 9.166666666666666%\n",
            "Accuracy of the given network is: 9.166666666666666%\n",
            "Accuracy of the given network is: 10.0%\n",
            "Accuracy of the given network is: 19.166666666666668%\n",
            "Accuracy of the given network is: 18.833333333333332%\n",
            "Accuracy of the given network is: 25.166666666666664%\n",
            "Accuracy of the given network is: 20.166666666666664%\n",
            "Accuracy of the given network is: 18.666666666666668%\n",
            "Accuracy of the given network is: 18.833333333333332%\n",
            "Cost after 50th iteration is: 2.5646056759621945\n",
            "Accuracy of the given network is: 14.499999999999998%\n",
            "Accuracy of the given network is: 18.833333333333332%\n",
            "Accuracy of the given network is: 19.5%\n",
            "Accuracy of the given network is: 18.833333333333332%\n",
            "Accuracy of the given network is: 25.666666666666664%\n",
            "Accuracy of the given network is: 10.0%\n",
            "Accuracy of the given network is: 10.0%\n",
            "Accuracy of the given network is: 10.0%\n",
            "Accuracy of the given network is: 14.833333333333334%\n",
            "Accuracy of the given network is: 21.0%\n",
            "Accuracy of the given network is: 20.166666666666664%\n",
            "Accuracy of the given network is: 24.0%\n",
            "Accuracy of the given network is: 11.0%\n",
            "Accuracy of the given network is: 11.0%\n",
            "Accuracy of the given network is: 11.0%\n",
            "Accuracy of the given network is: 14.833333333333334%\n",
            "Accuracy of the given network is: 21.0%\n",
            "Accuracy of the given network is: 20.166666666666664%\n",
            "Accuracy of the given network is: 24.0%\n",
            "Accuracy of the given network is: 11.0%\n",
            "Accuracy of the given network is: 11.0%\n",
            "Accuracy of the given network is: 11.0%\n",
            "Accuracy of the given network is: 15.833333333333332%\n",
            "Accuracy of the given network is: 21.0%\n",
            "Accuracy of the given network is: 20.166666666666664%\n",
            "Cost after 75th iteration is: 2.677264621912108\n",
            "Accuracy of the given network is: 24.0%\n",
            "Accuracy of the given network is: 11.0%\n",
            "Accuracy of the given network is: 11.0%\n",
            "Accuracy of the given network is: 11.0%\n",
            "Accuracy of the given network is: 16.166666666666664%\n",
            "Accuracy of the given network is: 21.0%\n",
            "Accuracy of the given network is: 20.166666666666664%\n",
            "Accuracy of the given network is: 24.0%\n",
            "Accuracy of the given network is: 11.0%\n",
            "Accuracy of the given network is: 11.0%\n",
            "Accuracy of the given network is: 11.0%\n",
            "Accuracy of the given network is: 17.166666666666668%\n",
            "Accuracy of the given network is: 21.0%\n",
            "Accuracy of the given network is: 19.666666666666664%\n",
            "Accuracy of the given network is: 24.0%\n",
            "Accuracy of the given network is: 10.833333333333334%\n",
            "Accuracy of the given network is: 10.833333333333334%\n",
            "Accuracy of the given network is: 10.833333333333334%\n",
            "Accuracy of the given network is: 18.833333333333332%\n",
            "Accuracy of the given network is: 20.833333333333336%\n",
            "Accuracy of the given network is: 19.666666666666664%\n",
            "Accuracy of the given network is: 24.666666666666668%\n",
            "Accuracy of the given network is: 10.833333333333334%\n",
            "Accuracy of the given network is: 10.833333333333334%\n",
            "Accuracy of the given network is: 10.833333333333334%\n",
            "Cost after 100th iteration is: 2.5618541596601756\n",
            "Accuracy of the given network is: 19.666666666666664%\n",
            "Accuracy of the given network is: 20.833333333333336%\n",
            "Accuracy of the given network is: 19.666666666666664%\n",
            "Accuracy of the given network is: 25.166666666666664%\n",
            "Accuracy of the given network is: 10.833333333333334%\n",
            "Accuracy of the given network is: 10.833333333333334%\n",
            "Accuracy of the given network is: 10.833333333333334%\n",
            "Accuracy of the given network is: 20.0%\n",
            "Accuracy of the given network is: 20.833333333333336%\n",
            "Accuracy of the given network is: 19.666666666666664%\n",
            "Accuracy of the given network is: 25.666666666666664%\n",
            "Accuracy of the given network is: 10.5%\n",
            "Accuracy of the given network is: 10.5%\n",
            "Accuracy of the given network is: 10.833333333333334%\n",
            "Accuracy of the given network is: 19.833333333333332%\n",
            "Accuracy of the given network is: 20.5%\n",
            "Accuracy of the given network is: 19.666666666666664%\n",
            "Accuracy of the given network is: 26.0%\n",
            "Accuracy of the given network is: 10.5%\n",
            "Accuracy of the given network is: 10.5%\n",
            "Accuracy of the given network is: 10.833333333333334%\n",
            "Accuracy of the given network is: 19.666666666666664%\n",
            "Accuracy of the given network is: 20.166666666666664%\n",
            "Accuracy of the given network is: 19.666666666666664%\n",
            "Accuracy of the given network is: 25.666666666666664%\n",
            "Cost after 125th iteration is: 2.5362251105276825\n",
            "Accuracy of the given network is: 10.5%\n",
            "Accuracy of the given network is: 10.5%\n",
            "Accuracy of the given network is: 10.5%\n",
            "Accuracy of the given network is: 19.666666666666664%\n",
            "Accuracy of the given network is: 20.166666666666664%\n",
            "Accuracy of the given network is: 19.666666666666664%\n",
            "Accuracy of the given network is: 24.833333333333332%\n",
            "Accuracy of the given network is: 10.5%\n",
            "Accuracy of the given network is: 10.5%\n",
            "Accuracy of the given network is: 10.5%\n",
            "Accuracy of the given network is: 19.666666666666664%\n",
            "Accuracy of the given network is: 20.0%\n",
            "Accuracy of the given network is: 19.666666666666664%\n",
            "Accuracy of the given network is: 24.0%\n",
            "Accuracy of the given network is: 10.5%\n",
            "Accuracy of the given network is: 10.5%\n",
            "Accuracy of the given network is: 10.5%\n",
            "Accuracy of the given network is: 19.666666666666664%\n",
            "Accuracy of the given network is: 19.833333333333332%\n",
            "Accuracy of the given network is: 19.666666666666664%\n",
            "Accuracy of the given network is: 22.333333333333332%\n",
            "Accuracy of the given network is: 10.5%\n",
            "Accuracy of the given network is: 10.5%\n",
            "Accuracy of the given network is: 10.5%\n",
            "Accuracy of the given network is: 19.666666666666664%\n",
            "Cost after 150th iteration is: 2.6705470823226354\n",
            "Accuracy of the given network is: 19.833333333333332%\n",
            "Accuracy of the given network is: 19.666666666666664%\n",
            "Accuracy of the given network is: 20.833333333333336%\n",
            "Accuracy of the given network is: 10.5%\n",
            "Accuracy of the given network is: 10.5%\n",
            "Accuracy of the given network is: 10.5%\n",
            "Accuracy of the given network is: 19.666666666666664%\n",
            "Accuracy of the given network is: 19.833333333333332%\n",
            "Accuracy of the given network is: 19.666666666666664%\n",
            "Accuracy of the given network is: 20.0%\n",
            "Accuracy of the given network is: 10.5%\n",
            "Accuracy of the given network is: 10.5%\n",
            "Accuracy of the given network is: 10.5%\n",
            "Accuracy of the given network is: 19.666666666666664%\n",
            "Accuracy of the given network is: 19.833333333333332%\n",
            "Accuracy of the given network is: 19.666666666666664%\n",
            "Accuracy of the given network is: 19.833333333333332%\n",
            "Accuracy of the given network is: 10.5%\n",
            "Accuracy of the given network is: 10.5%\n",
            "Accuracy of the given network is: 10.5%\n",
            "Accuracy of the given network is: 19.666666666666664%\n",
            "Accuracy of the given network is: 19.833333333333332%\n",
            "Accuracy of the given network is: 19.666666666666664%\n",
            "Accuracy of the given network is: 19.833333333333332%\n",
            "Accuracy of the given network is: 10.333333333333334%\n",
            "Cost after 175th iteration is: 2.617849137032914\n",
            "Accuracy of the given network is: 10.333333333333334%\n",
            "Accuracy of the given network is: 10.5%\n",
            "Accuracy of the given network is: 19.666666666666664%\n",
            "Accuracy of the given network is: 19.833333333333332%\n",
            "Accuracy of the given network is: 19.666666666666664%\n",
            "Accuracy of the given network is: 19.833333333333332%\n",
            "Accuracy of the given network is: 10.333333333333334%\n",
            "Accuracy of the given network is: 10.333333333333334%\n",
            "Accuracy of the given network is: 10.5%\n"
          ],
          "name": "stdout"
        }
      ]
    },
    {
      "cell_type": "code",
      "metadata": {
        "colab": {
          "base_uri": "https://localhost:8080/",
          "height": 295
        },
        "id": "leYX35a0NXll",
        "outputId": "f572160c-6c4f-45a8-ded3-5e232ac313c8"
      },
      "source": [
        "n.plots(c,a) "
      ],
      "execution_count": 24,
      "outputs": [
        {
          "output_type": "display_data",
          "data": {
            "image/png": "[encoded data removed]",
            "text/plain": [
              "<Figure size 432x288 with 2 Axes>"
            ]
          },
          "metadata": {
            "tags": [],
            "needs_background": "light"
          }
        }
      ]
    },
    {
      "cell_type": "code",
      "metadata": {
        "colab": {
          "base_uri": "https://localhost:8080/"
        },
        "id": "U-49nbPONXlm",
        "outputId": "8373bb14-4ac2-4de3-b142-7f01cfb81afc"
      },
      "source": [
        "c[-1]"
      ],
      "execution_count": 25,
      "outputs": [
        {
          "output_type": "execute_result",
          "data": {
            "text/plain": [
              "2.477870785990071"
            ]
          },
          "metadata": {
            "tags": []
          },
          "execution_count": 25
        }
      ]
    },
    {
      "cell_type": "code",
      "metadata": {
        "colab": {
          "base_uri": "https://localhost:8080/"
        },
        "id": "lG7KkkzQNXlm",
        "outputId": "4ec8fd0e-8f97-47b4-8f52-bee82b6c9b62"
      },
      "source": [
        "a[-1]"
      ],
      "execution_count": 26,
      "outputs": [
        {
          "output_type": "execute_result",
          "data": {
            "text/plain": [
              "10.5"
            ]
          },
          "metadata": {
            "tags": []
          },
          "execution_count": 26
        }
      ]
    },
    {
      "cell_type": "code",
      "metadata": {
        "colab": {
          "base_uri": "https://localhost:8080/"
        },
        "id": "odR-K9yANXlm",
        "outputId": "7e908305-82bc-421b-889d-bb1687e027a8"
      },
      "source": [
        "#learning rate = 0.001 , two hidden layers\n",
        "w, c, a = n.train(0.001, ['relu','relu'], [10,5], 3000, 200)"
      ],
      "execution_count": 27,
      "outputs": [
        {
          "output_type": "stream",
          "text": [
            "Accuracy of the given network is: 23.833333333333336%\n",
            "Cost after 0th iteration is: 11.957789287596855\n",
            "Accuracy of the given network is: 23.833333333333336%\n",
            "Accuracy of the given network is: 23.833333333333336%\n",
            "Accuracy of the given network is: 23.833333333333336%\n",
            "Accuracy of the given network is: 23.833333333333336%\n",
            "Accuracy of the given network is: 23.833333333333336%\n",
            "Accuracy of the given network is: 23.833333333333336%\n",
            "Accuracy of the given network is: 23.833333333333336%\n",
            "Accuracy of the given network is: 23.833333333333336%\n",
            "Accuracy of the given network is: 23.833333333333336%\n",
            "Accuracy of the given network is: 23.833333333333336%\n",
            "Accuracy of the given network is: 23.833333333333336%\n",
            "Accuracy of the given network is: 23.833333333333336%\n",
            "Accuracy of the given network is: 23.833333333333336%\n",
            "Accuracy of the given network is: 23.833333333333336%\n",
            "Accuracy of the given network is: 23.833333333333336%\n",
            "Accuracy of the given network is: 23.833333333333336%\n",
            "Accuracy of the given network is: 23.833333333333336%\n",
            "Accuracy of the given network is: 23.833333333333336%\n",
            "Accuracy of the given network is: 23.833333333333336%\n",
            "Accuracy of the given network is: 23.833333333333336%\n",
            "Accuracy of the given network is: 23.833333333333336%\n",
            "Accuracy of the given network is: 23.833333333333336%\n",
            "Accuracy of the given network is: 23.833333333333336%\n",
            "Accuracy of the given network is: 23.833333333333336%\n",
            "Accuracy of the given network is: 23.833333333333336%\n",
            "Cost after 25th iteration is: 10.17345250435952\n",
            "Accuracy of the given network is: 23.833333333333336%\n",
            "Accuracy of the given network is: 24.0%\n",
            "Accuracy of the given network is: 24.0%\n",
            "Accuracy of the given network is: 24.0%\n",
            "Accuracy of the given network is: 24.0%\n",
            "Accuracy of the given network is: 24.0%\n",
            "Accuracy of the given network is: 24.0%\n",
            "Accuracy of the given network is: 24.0%\n",
            "Accuracy of the given network is: 24.166666666666668%\n",
            "Accuracy of the given network is: 24.166666666666668%\n",
            "Accuracy of the given network is: 24.166666666666668%\n",
            "Accuracy of the given network is: 24.166666666666668%\n",
            "Accuracy of the given network is: 24.166666666666668%\n",
            "Accuracy of the given network is: 24.166666666666668%\n",
            "Accuracy of the given network is: 24.166666666666668%\n",
            "Accuracy of the given network is: 24.166666666666668%\n",
            "Accuracy of the given network is: 24.333333333333336%\n",
            "Accuracy of the given network is: 24.333333333333336%\n",
            "Accuracy of the given network is: 24.166666666666668%\n",
            "Accuracy of the given network is: 24.333333333333336%\n",
            "Accuracy of the given network is: 24.333333333333336%\n",
            "Accuracy of the given network is: 24.333333333333336%\n",
            "Accuracy of the given network is: 24.333333333333336%\n",
            "Accuracy of the given network is: 24.333333333333336%\n",
            "Accuracy of the given network is: 24.333333333333336%\n",
            "Cost after 50th iteration is: 9.925148081372797\n",
            "Accuracy of the given network is: 24.333333333333336%\n",
            "Accuracy of the given network is: 24.333333333333336%\n",
            "Accuracy of the given network is: 24.333333333333336%\n",
            "Accuracy of the given network is: 24.5%\n",
            "Accuracy of the given network is: 24.666666666666668%\n",
            "Accuracy of the given network is: 24.666666666666668%\n",
            "Accuracy of the given network is: 24.666666666666668%\n",
            "Accuracy of the given network is: 24.666666666666668%\n",
            "Accuracy of the given network is: 24.666666666666668%\n",
            "Accuracy of the given network is: 24.666666666666668%\n",
            "Accuracy of the given network is: 24.666666666666668%\n",
            "Accuracy of the given network is: 24.666666666666668%\n",
            "Accuracy of the given network is: 24.666666666666668%\n",
            "Accuracy of the given network is: 24.666666666666668%\n",
            "Accuracy of the given network is: 24.666666666666668%\n",
            "Accuracy of the given network is: 24.666666666666668%\n",
            "Accuracy of the given network is: 24.666666666666668%\n",
            "Accuracy of the given network is: 24.666666666666668%\n",
            "Accuracy of the given network is: 24.666666666666668%\n",
            "Accuracy of the given network is: 24.666666666666668%\n",
            "Accuracy of the given network is: 24.666666666666668%\n",
            "Accuracy of the given network is: 24.666666666666668%\n",
            "Accuracy of the given network is: 24.666666666666668%\n",
            "Accuracy of the given network is: 24.666666666666668%\n",
            "Accuracy of the given network is: 24.666666666666668%\n",
            "Cost after 75th iteration is: 9.781617891294966\n",
            "Accuracy of the given network is: 24.666666666666668%\n",
            "Accuracy of the given network is: 24.666666666666668%\n",
            "Accuracy of the given network is: 24.833333333333332%\n",
            "Accuracy of the given network is: 25.0%\n",
            "Accuracy of the given network is: 25.0%\n",
            "Accuracy of the given network is: 25.0%\n",
            "Accuracy of the given network is: 25.0%\n",
            "Accuracy of the given network is: 25.0%\n",
            "Accuracy of the given network is: 25.0%\n",
            "Accuracy of the given network is: 25.0%\n",
            "Accuracy of the given network is: 25.0%\n",
            "Accuracy of the given network is: 25.0%\n",
            "Accuracy of the given network is: 25.0%\n",
            "Accuracy of the given network is: 25.0%\n",
            "Accuracy of the given network is: 25.0%\n",
            "Accuracy of the given network is: 25.0%\n",
            "Accuracy of the given network is: 25.0%\n",
            "Accuracy of the given network is: 25.0%\n",
            "Accuracy of the given network is: 25.0%\n",
            "Accuracy of the given network is: 25.0%\n",
            "Accuracy of the given network is: 25.0%\n",
            "Accuracy of the given network is: 25.0%\n",
            "Accuracy of the given network is: 25.0%\n",
            "Accuracy of the given network is: 25.0%\n",
            "Accuracy of the given network is: 25.166666666666664%\n",
            "Cost after 100th iteration is: 9.330829582117918\n",
            "Accuracy of the given network is: 25.166666666666664%\n",
            "Accuracy of the given network is: 25.166666666666664%\n",
            "Accuracy of the given network is: 25.166666666666664%\n",
            "Accuracy of the given network is: 25.166666666666664%\n",
            "Accuracy of the given network is: 25.166666666666664%\n",
            "Accuracy of the given network is: 25.333333333333336%\n",
            "Accuracy of the given network is: 25.333333333333336%\n",
            "Accuracy of the given network is: 25.333333333333336%\n",
            "Accuracy of the given network is: 25.5%\n",
            "Accuracy of the given network is: 25.5%\n",
            "Accuracy of the given network is: 25.5%\n",
            "Accuracy of the given network is: 25.5%\n",
            "Accuracy of the given network is: 25.5%\n",
            "Accuracy of the given network is: 25.5%\n",
            "Accuracy of the given network is: 25.666666666666664%\n",
            "Accuracy of the given network is: 25.666666666666664%\n",
            "Accuracy of the given network is: 25.666666666666664%\n",
            "Accuracy of the given network is: 25.666666666666664%\n",
            "Accuracy of the given network is: 25.666666666666664%\n",
            "Accuracy of the given network is: 25.666666666666664%\n",
            "Accuracy of the given network is: 25.666666666666664%\n",
            "Accuracy of the given network is: 25.666666666666664%\n",
            "Accuracy of the given network is: 25.666666666666664%\n",
            "Accuracy of the given network is: 25.666666666666664%\n",
            "Accuracy of the given network is: 25.666666666666664%\n",
            "Cost after 125th iteration is: 9.127076477423529\n",
            "Accuracy of the given network is: 25.666666666666664%\n",
            "Accuracy of the given network is: 26.166666666666664%\n",
            "Accuracy of the given network is: 26.333333333333332%\n",
            "Accuracy of the given network is: 26.5%\n",
            "Accuracy of the given network is: 26.5%\n",
            "Accuracy of the given network is: 26.5%\n",
            "Accuracy of the given network is: 26.333333333333332%\n",
            "Accuracy of the given network is: 26.5%\n",
            "Accuracy of the given network is: 26.666666666666668%\n",
            "Accuracy of the given network is: 26.666666666666668%\n",
            "Accuracy of the given network is: 26.666666666666668%\n",
            "Accuracy of the given network is: 26.666666666666668%\n",
            "Accuracy of the given network is: 26.666666666666668%\n",
            "Accuracy of the given network is: 26.833333333333332%\n",
            "Accuracy of the given network is: 26.833333333333332%\n",
            "Accuracy of the given network is: 26.833333333333332%\n",
            "Accuracy of the given network is: 26.833333333333332%\n",
            "Accuracy of the given network is: 26.833333333333332%\n",
            "Accuracy of the given network is: 27.0%\n",
            "Accuracy of the given network is: 27.166666666666668%\n",
            "Accuracy of the given network is: 27.333333333333332%\n",
            "Accuracy of the given network is: 27.500000000000004%\n",
            "Accuracy of the given network is: 27.500000000000004%\n",
            "Accuracy of the given network is: 27.500000000000004%\n",
            "Accuracy of the given network is: 27.666666666666668%\n",
            "Cost after 150th iteration is: 8.770011704496467\n",
            "Accuracy of the given network is: 27.833333333333332%\n",
            "Accuracy of the given network is: 27.833333333333332%\n",
            "Accuracy of the given network is: 28.000000000000004%\n",
            "Accuracy of the given network is: 28.166666666666668%\n",
            "Accuracy of the given network is: 28.166666666666668%\n",
            "Accuracy of the given network is: 28.666666666666668%\n",
            "Accuracy of the given network is: 28.666666666666668%\n",
            "Accuracy of the given network is: 28.833333333333332%\n",
            "Accuracy of the given network is: 28.999999999999996%\n",
            "Accuracy of the given network is: 28.999999999999996%\n",
            "Accuracy of the given network is: 28.999999999999996%\n",
            "Accuracy of the given network is: 28.999999999999996%\n",
            "Accuracy of the given network is: 29.166666666666668%\n",
            "Accuracy of the given network is: 29.5%\n",
            "Accuracy of the given network is: 29.666666666666668%\n",
            "Accuracy of the given network is: 29.833333333333336%\n",
            "Accuracy of the given network is: 29.833333333333336%\n",
            "Accuracy of the given network is: 29.833333333333336%\n",
            "Accuracy of the given network is: 29.833333333333336%\n",
            "Accuracy of the given network is: 30.0%\n",
            "Accuracy of the given network is: 30.0%\n",
            "Accuracy of the given network is: 30.0%\n",
            "Accuracy of the given network is: 30.166666666666668%\n",
            "Accuracy of the given network is: 30.333333333333336%\n",
            "Accuracy of the given network is: 30.5%\n",
            "Cost after 175th iteration is: 8.855963497697998\n",
            "Accuracy of the given network is: 30.5%\n",
            "Accuracy of the given network is: 30.666666666666664%\n",
            "Accuracy of the given network is: 30.5%\n",
            "Accuracy of the given network is: 30.5%\n",
            "Accuracy of the given network is: 30.833333333333336%\n",
            "Accuracy of the given network is: 30.833333333333336%\n",
            "Accuracy of the given network is: 31.0%\n",
            "Accuracy of the given network is: 31.333333333333336%\n",
            "Accuracy of the given network is: 31.333333333333336%\n",
            "Accuracy of the given network is: 31.333333333333336%\n",
            "Accuracy of the given network is: 31.333333333333336%\n",
            "Accuracy of the given network is: 31.333333333333336%\n",
            "Accuracy of the given network is: 31.666666666666664%\n",
            "Accuracy of the given network is: 31.833333333333336%\n",
            "Accuracy of the given network is: 31.833333333333336%\n",
            "Accuracy of the given network is: 32.0%\n",
            "Accuracy of the given network is: 32.0%\n",
            "Accuracy of the given network is: 32.0%\n",
            "Accuracy of the given network is: 32.166666666666664%\n",
            "Accuracy of the given network is: 32.166666666666664%\n",
            "Accuracy of the given network is: 32.166666666666664%\n",
            "Accuracy of the given network is: 32.166666666666664%\n",
            "Accuracy of the given network is: 32.0%\n",
            "Accuracy of the given network is: 32.0%\n"
          ],
          "name": "stdout"
        }
      ]
    },
    {
      "cell_type": "code",
      "metadata": {
        "colab": {
          "base_uri": "https://localhost:8080/",
          "height": 295
        },
        "id": "ZJ7n4GeDNXln",
        "outputId": "da6c71d9-0ddd-4f39-a392-7d90d9d4d67f"
      },
      "source": [
        "n.plots(c,a) "
      ],
      "execution_count": 28,
      "outputs": [
        {
          "output_type": "display_data",
          "data": {
            "image/png": "[encoded data removed]",
            "text/plain": [
              "<Figure size 432x288 with 2 Axes>"
            ]
          },
          "metadata": {
            "tags": [],
            "needs_background": "light"
          }
        }
      ]
    },
    {
      "cell_type": "code",
      "metadata": {
        "colab": {
          "base_uri": "https://localhost:8080/"
        },
        "id": "x5XqudAYNXln",
        "outputId": "8e989e35-5701-4730-f7b8-4ec3df42b0d5"
      },
      "source": [
        "c[-1]"
      ],
      "execution_count": 29,
      "outputs": [
        {
          "output_type": "execute_result",
          "data": {
            "text/plain": [
              "8.169542357196518"
            ]
          },
          "metadata": {
            "tags": []
          },
          "execution_count": 29
        }
      ]
    },
    {
      "cell_type": "code",
      "metadata": {
        "colab": {
          "base_uri": "https://localhost:8080/"
        },
        "id": "6DJfY8lgNXln",
        "outputId": "15ef395b-2b30-4134-da08-3e3ba3d51763"
      },
      "source": [
        "a[-1]"
      ],
      "execution_count": 30,
      "outputs": [
        {
          "output_type": "execute_result",
          "data": {
            "text/plain": [
              "32.0"
            ]
          },
          "metadata": {
            "tags": []
          },
          "execution_count": 30
        }
      ]
    }
  ]
}