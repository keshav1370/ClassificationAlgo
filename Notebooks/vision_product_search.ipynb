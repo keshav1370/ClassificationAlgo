{
  "nbformat": 4,
  "nbformat_minor": 0,
  "metadata": {
    "colab": {
      "name": "vision-product-search.ipynb",
      "provenance": [],
      "collapsed_sections": [],
      "include_colab_link": true
    },
    "kernelspec": {
      "name": "python3",
      "display_name": "Python 3"
    },
    "language_info": {
      "name": "python"
    }
  },
  "cells": [
    {
      "cell_type": "markdown",
      "metadata": {
        "id": "view-in-github",
        "colab_type": "text"
      },
      "source": [
        "<a href=\"https://colab.research.google.com/github/keshav1370/ClassificationAlgo/blob/main/Notebooks/vision_product_search.ipynb\" target=\"_parent\"><img src=\"https://colab.research.google.com/assets/colab-badge.svg\" alt=\"Open In Colab\"/></a>"
      ]
    },
    {
      "cell_type": "markdown",
      "source": [
        "# Product Search Setup"
      ],
      "metadata": {
        "id": "ELyzGLu6_NOo"
      }
    },
    {
      "cell_type": "markdown",
      "source": [
        "## Imports"
      ],
      "metadata": {
        "id": "r06YpLNi_Jj0"
      }
    },
    {
      "cell_type": "code",
      "metadata": {
        "id": "CU7y8a97C7Q3",
        "colab": {
          "base_uri": "https://localhost:8080/"
        },
        "outputId": "559b4621-fa40-4aaf-92dd-989577e26c7a"
      },
      "source": [
        "!apt -qq update\n",
        "!pip install google-cloud-vision>=1.28.0\n",
        "!echo \"deb http://packages.cloud.google.com/apt gcsfuse-bionic main\" > /etc/apt/sources.list.d/gcsfuse.list\n",
        "!curl https://packages.cloud.google.com/apt/doc/apt-key.gpg | apt-key add -\n",
        "!apt -qq install gcsfuse\n",
        "\n",
        "\n",
        "from google.cloud import vision, storage\n",
        "\n",
        "\n",
        "import firebase_admin\n",
        "from firebase_admin import credentials, db\n",
        "\n",
        "from google.colab import auth, drive\n",
        "\n",
        "import os\n",
        "import pandas as pd\n",
        "import json\n",
        "import urllib.parse\n"
      ],
      "execution_count": null,
      "outputs": [
        {
          "output_type": "stream",
          "name": "stdout",
          "text": [
            "58 packages can be upgraded. Run 'apt list --upgradable' to see them.\n",
            "  % Total    % Received % Xferd  Average Speed   Time    Time     Time  Current\n",
            "                                 Dload  Upload   Total   Spent    Left  Speed\n",
            "100  2537  100  2537    0     0   112k      0 --:--:-- --:--:-- --:--:--  112k\n",
            "OK\n",
            "gcsfuse is already the newest version (0.39.2).\n",
            "0 upgraded, 0 newly installed, 0 to remove and 58 not upgraded.\n"
          ]
        }
      ]
    },
    {
      "cell_type": "code",
      "metadata": {
        "id": "-vCxpKM9Ap2j"
      },
      "source": [
        "cred_file_name = \"mystryvision-db1b5dc9321f.json\"\n",
        "cred_file_path = \"/content/gdrive/My Drive/Colab Notebooks/\"\n",
        "BUCKET_ID = \"mystry-product-set1\"\n",
        "PROJ_ID = \"mystryvision\"\n",
        "LOCATION = \"us-east1\"\n",
        "p_set_id = \"mystry-sneaker-set\"\n",
        "P_SET_DISPLAY = \"Mystry Sneaker Set\"\n",
        "bulk_import_csv_uri = \"gs://mystry-product-set1/mystry-sneakers-bulk-import.csv\""
      ],
      "execution_count": null,
      "outputs": []
    },
    {
      "cell_type": "code",
      "source": [
        "auth.authenticate_user()\n",
        "drive.mount('/content/gdrive')\n",
        "os.environ[\"GOOGLE_APPLICATION_CREDENTIALS\"]=cred_file_path + cred_file_name"
      ],
      "metadata": {
        "id": "k_cLPX49Wbol"
      },
      "execution_count": null,
      "outputs": []
    },
    {
      "cell_type": "code",
      "source": [
        "cred = credentials.Certificate(\"/content/gdrive/My Drive/Colab Notebooks/mystryworld-admin-private-key.json\")"
      ],
      "metadata": {
        "id": "oPNjupM8WX2o"
      },
      "execution_count": null,
      "outputs": []
    },
    {
      "cell_type": "code",
      "metadata": {
        "id": "mAew64j4DGgI"
      },
      "source": [
        "firebase_databaseURL = 'https://mystryworld-4159d-default-rtdb.firebaseio.com/'"
      ],
      "execution_count": null,
      "outputs": []
    },
    {
      "cell_type": "code",
      "source": [
        ""
      ],
      "metadata": {
        "id": "ZA_890rE6jxG"
      },
      "execution_count": null,
      "outputs": []
    },
    {
      "cell_type": "code",
      "metadata": {
        "id": "Nc6Qz2JADrIf"
      },
      "source": [
        ""
      ],
      "execution_count": null,
      "outputs": []
    },
    {
      "cell_type": "code",
      "source": [
        ""
      ],
      "metadata": {
        "id": "gsqtFW_uZiNF"
      },
      "execution_count": null,
      "outputs": []
    },
    {
      "cell_type": "markdown",
      "metadata": {
        "id": "NwzCE9LHxf_1"
      },
      "source": [
        "# Vision Imports\n",
        "\n",
        "First upload `mystryvision-db1b5dc9321f.json` (check MystryLens repo) to colab and **update the file path below**"
      ]
    },
    {
      "cell_type": "code",
      "metadata": {
        "id": "kN6ue6ST_EPF"
      },
      "source": [
        ""
      ],
      "execution_count": null,
      "outputs": []
    },
    {
      "cell_type": "code",
      "metadata": {
        "colab": {
          "base_uri": "https://localhost:8080/"
        },
        "id": "o-JS6O0oxfWF",
        "outputId": "5e1c072d-fb42-419e-feba-7f62c681f692"
      },
      "source": [
        ""
      ],
      "execution_count": null,
      "outputs": [
        {
          "output_type": "stream",
          "name": "stdout",
          "text": [
            "Drive already mounted at /content/gdrive; to attempt to forcibly remount, call drive.mount(\"/content/gdrive\", force_remount=True).\n"
          ]
        }
      ]
    },
    {
      "cell_type": "markdown",
      "source": [
        "## Load Firebase Data"
      ],
      "metadata": {
        "id": "R9GqjC74-b3H"
      }
    },
    {
      "cell_type": "code",
      "source": [
        "firebase_admin = firebase_admin.initialize_app(cred, {'databaseURL': firebase_databaseURL})"
      ],
      "metadata": {
        "id": "LApGi5f37SM5"
      },
      "execution_count": null,
      "outputs": []
    },
    {
      "cell_type": "code",
      "source": [
        "rtdbjson = db.reference('/shoes').get()"
      ],
      "metadata": {
        "id": "aoNS_27a8ptF"
      },
      "execution_count": null,
      "outputs": []
    },
    {
      "cell_type": "markdown",
      "metadata": {
        "id": "_yeekpZzbtZR"
      },
      "source": [
        "#### Sanity Check: This should print a bunch of shoeIDs"
      ]
    },
    {
      "cell_type": "code",
      "source": [
        "rtdbjson.keys()"
      ],
      "metadata": {
        "colab": {
          "base_uri": "https://localhost:8080/"
        },
        "id": "Lmriu92g8Lpt",
        "outputId": "066807ec-b77f-45d9-a66b-fa74732a8214"
      },
      "execution_count": null,
      "outputs": [
        {
          "output_type": "execute_result",
          "data": {
            "text/plain": [
              "dict_keys(['-MkI_UIKBFkNFyiua4IM', '-MkIamP4Rvb2ZkzTapgz', '-MkIeAHpXGbMGzZDgPQk', '-MkIfUJ7oxnCkmbySBTK', '-MklzYUH36TiSU3e0r4g', '-Mkm-52Tb29MRuM98dHM', '-Mkm-Y5AomWp_dlcttul', '-MlDVtshCNN3bcwUIRFi', '-MlDWmvbQodi_5IxJE83', '-MlD_AmerXslOsWte3n4', '-MlDa1pZLOSOFpeSZoQM', '-MlDaVbae_bxcGShtVry', '-MlDbE8FWUox8Lx8dwNF', '-MlDbjLf9LoxVxDjgEAU', '-MlDc0vviy7CZVRLD5OL', '-MlDcZlWhAeyHRC_VwLl', '-MlDd1CBdxZow3018-2U', '-MlDdRPk5l6Gnfr-h2yU', '-MlDdwX10JmTJCbc6Dr0', '-MlDeFjKRswCl_xP8ZTc', '-MlDgTmosOvZe4u8EQBo', '-MlDh1288FSyCfvUmBch', '-MlDhH2-lnQwdaQegqj_', '-MlDhfRiNWcJkTENeLTN', '-MlDhw4VINiRQGA8iJdQ', '-MlDiYo6arYjRRAziBqO', '-Mm1Iecxpv2RZVQCeNJX', '-Mm1Iws-A81eyhKVzNZq', '-Mm1K43ee4vsgaySwse4', '-Mm1KQ2KcAsuncMiK5iI', '-Mm1L132HzhVeI8N--4S', '-Mm1LN0NIW4l-7Mhsd32', '-Mm1Lozgd4SiZSzkLBsU', '-Mm1MFkJ90pHEKmT4ayM', '-Mm1MeBOq64vMg78Qmpv', '-Mm1O0sLrMdZglISaznb', '-Mm1OIlbSw0ImKK_DD4b', '-Mm1OoZR8fGfa9jy3-u5', '-Mm1P8t08tAgsoCMN0GB', '-Mm1PkZAZnudJViTiPXx', '-Mm1R0-56tRxE1Mt821W', '-Mm1REfWQzq_7EY145dI', '-Mm1RTx6Uq9DQHe6Mx2m', '-Mm1SFNGScGymapdKW3O', '-Mm1SYYYDy40ZJIBxidn', '-Mm1So-ztvnaWCUm_5tl', '-Mm1UggUpWfIO3c6aDZB', '-Mm1V8rN5Wyht1noe_CA', '-MmB4whUVPuyZqsQUNLL', '-MmB5O4ZT6F7PTkk7_oH', '-MmB5dMQtQEK5Hmwuew5', '-MmB5uVIB8bkJi6ppZpP', '-MmB6F3pdBfsOzsdS8PJ', '-MmB77mNrx8lxIoupL1o', '-MmB7MFGT-HnKPauvSRg', '-MmB7ZR3CfEs6VsNafux', '-MmB8TfTS1hdE90aa2V2', '-MmB8lmIipQa6DiRbwwk', '-MmB9-bvsuMt2w6-phdp', '-MmB9F2D_JP1Yj7juxRF', '-MmB9Tq_umgj8LmukK6t', '-MmB9hiIiKNp0JbBoME1', '-MmBF2xqwZRXBiNpa8SH', '-MmBFGnyIxaSIGFNYwUK', '-MmBFSeDdRojdk-ZxQrX', '-MmBFi8gFvXwImka5uDN', '-MmBG6oMzGFcylxnHW3Q', '-MmBGLSTcHfIEWquGZm1', '-MmBGlQ4M5C_6jqQmsf_', '-MmBH38mEOP7FWcNU0lZ', '-MmBHLhP9q5T5FNraP3-', '-MmBHWlhB6rW6bGzlzIg', '-MmBHx_cbr95ZBAA8fAn', '-MmBImv_h9O2EEVk4jcq', '-MmBJBF6KItWilZxivp_', '-MmBJx49VcnPBElasg_m', '-MmBKEzbv4bKfeeypQns', '-MmBN17bfDVx8HNMN1Jx', '-MmBNM2HswZdJq-ANi5c', '-MmBNgrJTpSErN83Q7Pu', '-MmBNy7QoXY8xqR2fjiX', '-MmBOe_fd5U_JEyLdfPU', '-MmBQZHKVy4Y5H30dU24', '-MmBR-HijculMLwwZ6kW', '-MmBRpAgoibSgCeHuKZv', '-MmBTIDPTk-N_FXPOcOn', '-MmBTYSpm5c2axs2oadE', '-MmBTnCHxNfGsAQLpRHa', '-MmBU13grfMbQhc7lfJ1', '-MmBUFR-cjLjcC-TROBs', '-MmBUVwAyAPkSpIrcttS', '-MmBUl7Q72OoKizs4_Ti', '-MmQaa5w0UL84xOkVQPK', '-MmQbJvmSevW5M_Py_KI', '-MmQbfHWGzF9tUWZrUY-', '-MmQc8f1YQse6eVzJCzI', '-MmZQI8B8N4afCl2BL0e', '-MmZQVQ07qwLHfc4irwd', '-MmZQhjhsc7w61NbKA9P', '-MmZQwyBGIw8QC2UR29Y', '-MmZR96sl6XokiH3Gk-N', '-MmZRO8vRXR9NHKJ4lIB', '-MmZRdDazPwxbVKicvXL', '-MmZRqY2CXKv2BCk-UCI', '-MmZS3_F0pVeaN8QNYCY', '-MmZSHxO8_64gPOXdrjQ', '-MmZSYvNO5zUYbZEx_O0', '-MmZSneGrGmlyvxVpJJw', '-MmZT-ulcDdDnVEooyPE', '-MmZTFq0GXtyvZD7_Zy-', '-MmZVWSvGgsS61uVEkto', '-MmZVq6EUG33aDwGbKyU', '-MmZW1TKmVxcapGQ78ou', '-MmZWJ1LXkUWqz_wOSme', '-MmZW_uOiPHJKMpRCUyf', '-MmZWpczoej2S_qdwlo5', '-MmZX2x7vZIxkuOR14sT', '-MmZXwb9BC87CqGUy2MQ', '-MmZY9ohnJNLVUVfD9Tz', '-MmZYM6TElydmXudyS_7', '-MmZYZUznbdN9wDwKBi0', '-MmZZMToAT_0tzA43BuF', '-MmZZaHGi8trUrrZagUw', '-MmZZr1MpER-tCWdlM6S', '-MmZatChrIuHlCJTMKuY', '-MmZb7EVZ-xXmXUb_KF6', '-MmZbhq3iAdM5lf9T-Hr', '-MmZcN9flJ346-snmAuF', '-MmZcd28W1xtO7HFyZPX', '-MmZctGnFFQynnZArp8l', '-MmZdNzHWssX7_PCl00F', '-MmZdcyWpwxQ8IaRpAB7', '-MmZdshOsGkVLz_RhCFe', '-MmZe5bj_6LH_QBGbAoO', '-MmZf6ZAERUM6SilHgra', '-MmZfSv2O5HpsM3-beqL', '-MmZfjLcGRT5kS6v3t-w', '-MmZfwk2s2gAyPlM_E3P', '-MmZgAlv4lG7NWMkg744', '-MmZgOp4iHwSFYbmKei6', '-MmZgeO8CpOH3juVS6f2', '-MmZhNNDwHoias9RpL2i', '-MmZha0vrPDtT3nYuANm', '-MmZhrciPenW_Dhaje6F', '-MmZi4P3RfqMM8-ERMJW', '-MmZjPRI0M5gpyVnL66j', '-MmZjd77MYaU9TS00cl8', '-MmZkIVjb6sKRq0sJCKY', '-MmZkbHNKxYkVg7LO3CR', '-MmZkyegGL8Y0o67DoCX', '-MmZlARS4XV-h7CDVlEm', '-MmZlPbE5nowluraWDIz', '-MmZldfyDpSVE_uaTjgg', '-MmZlsnmafAzgv_nUuLk', '-MmZmAGV7xtpzZlStiZF', '-MmZmWH4GKYNjVQ8vE09', '-MmZmh3PXyj_z0hREHBT', '-MmZmsqMIbB7rQJt_MGo', '-MmZn5rNeupmDSH7NUlX', '-MoABXGW7iow2AXx1iJ2', '-MoAGEL0Pt02XtX5Swga', '-MoANiayt86xEq9T6OVy'])"
            ]
          },
          "metadata": {},
          "execution_count": 133
        }
      ]
    },
    {
      "cell_type": "code",
      "metadata": {
        "id": "M1SmOkLWIRDP"
      },
      "source": [
        ""
      ],
      "execution_count": null,
      "outputs": []
    },
    {
      "cell_type": "code",
      "metadata": {
        "id": "2u6-cpx8ILeg",
        "colab": {
          "base_uri": "https://localhost:8080/"
        },
        "outputId": "41e657a1-7be7-4330-cea5-183a77eb65e0"
      },
      "source": [
        "def purge_products_in_product_set(\n",
        "        project_id, location, product_set_id, force):\n",
        "    \"\"\"Delete all products in a product set.\n",
        "    Args:\n",
        "        project_id: Id of the project.\n",
        "        location: A compute region name.\n",
        "        product_set_id: Id of the product set.\n",
        "        force: Perform the purge only when force is set to True.\n",
        "    \"\"\"\n",
        "    client = vision.ProductSearchClient()\n",
        "\n",
        "    parent = f\"projects/{project_id}/locations/{location}\"\n",
        "\n",
        "    product_set_purge_config = vision.ProductSetPurgeConfig(\n",
        "        product_set_id=product_set_id)\n",
        "\n",
        "    # The purge operation is async.\n",
        "    operation = client.purge_products(request={\n",
        "        \"parent\": parent,\n",
        "        \"product_set_purge_config\": product_set_purge_config,\n",
        "        # The operation is irreversible and removes multiple products.\n",
        "        # The user is required to pass in force=True to actually perform the\n",
        "        # purge.\n",
        "        # If force is not set to True, the service raises an exception.\n",
        "        \"force\": force\n",
        "    })\n",
        "\n",
        "    operation.result(timeout=500)\n",
        "\n",
        "    print('Deleted products in product set.')\n",
        "\n",
        "def delete_product_set(project_id, location, product_set_id):\n",
        "    \"\"\"Delete a product set.\n",
        "    Args:\n",
        "        project_id: Id of the project.\n",
        "        location: A compute region name.\n",
        "        product_set_id: Id of the product set.\n",
        "    \"\"\"\n",
        "    client = vision.ProductSearchClient()\n",
        "\n",
        "    # Get the full path of the product set.\n",
        "    product_set_path = client.product_set_path(\n",
        "        project=project_id, location=location,\n",
        "        product_set=product_set_id)\n",
        "\n",
        "    # Delete the product set.\n",
        "    client.delete_product_set(name=product_set_path)\n",
        "    print('Product set deleted.')\n",
        "\n",
        "\n",
        "purge_products_in_product_set(PROJ_ID, LOCATION, p_set_id, True)\n",
        "delete_product_set(PROJ_ID, LOCATION, p_set_id)"
      ],
      "execution_count": null,
      "outputs": [
        {
          "output_type": "stream",
          "name": "stdout",
          "text": [
            "Deleted products in product set.\n",
            "Product set deleted.\n"
          ]
        }
      ]
    },
    {
      "cell_type": "markdown",
      "metadata": {
        "id": "4-nV3bCwrMaO"
      },
      "source": [
        "# Create A [Product Set](https://cloud.google.com/vision/product-search/docs/create-product-set)"
      ]
    },
    {
      "cell_type": "code",
      "metadata": {
        "colab": {
          "base_uri": "https://localhost:8080/"
        },
        "id": "hHUv6bLWDtHB",
        "outputId": "3fc3f5fc-78d8-4fc6-d03f-5c2cea1d43eb"
      },
      "source": [
        "# create product set\n",
        "def create_product_set(\n",
        "        project_id, location, product_set_id, product_set_display_name):\n",
        "    \"\"\"Create a product set.\n",
        "    Args:\n",
        "        project_id: Id of the project.\n",
        "        location: A compute region name.\n",
        "        product_set_id: Id of the product set.\n",
        "        product_set_display_name: Display name of the product set.\n",
        "    \"\"\"\n",
        "    client = vision.ProductSearchClient()\n",
        "\n",
        "    # A resource that represents Google Cloud Platform location.\n",
        "    location_path = f\"projects/{project_id}/locations/{location}\"\n",
        "\n",
        "    # Create a product set with the product set specification in the region.\n",
        "    product_set = vision.ProductSet(\n",
        "            display_name=product_set_display_name)\n",
        "\n",
        "    # The response is the product set with `name` populated.\n",
        "    response = client.create_product_set(\n",
        "        parent=location_path,\n",
        "        product_set=product_set,\n",
        "        product_set_id=product_set_id)\n",
        "\n",
        "    # Display the product set information.\n",
        "    print('Product set name: {}'.format(response.name))\n",
        "\n",
        "\n",
        "create_product_set(PROJ_ID, LOCATION, p_set_id, P_SET_DISPLAY)"
      ],
      "execution_count": null,
      "outputs": [
        {
          "output_type": "stream",
          "name": "stdout",
          "text": [
            "Product set name: projects/mystryvision/locations/us-east1/productSets/mystry-sneaker-set\n"
          ]
        }
      ]
    },
    {
      "cell_type": "markdown",
      "metadata": {
        "id": "c60ffUeBrYCX"
      },
      "source": [
        "# Build CSV for bulk import\n",
        "To create the csv use [this](https://cloud.google.com/vision/product-search/docs/csv-format) format"
      ]
    },
    {
      "cell_type": "code",
      "metadata": {
        "id": "QNmXboMrzcsU",
        "colab": {
          "base_uri": "https://localhost:8080/"
        },
        "outputId": "7c0c07f4-3faf-4307-a0e3-9bc0dd8ab110"
      },
      "source": [
        "data[\"-MkI_UIKBFkNFyiua4IM\"][\"shoeImg\"]['lowRes']"
      ],
      "execution_count": null,
      "outputs": [
        {
          "output_type": "execute_result",
          "data": {
            "text/plain": [
              "{'back': 'https://firebasestorage.googleapis.com/v0/b/mystryworld-4159d.appspot.com/o/shoes%2FlowRes%2F-MkI_UIKBFkNFyiua4IM%2Fshoeid-4.PNG?alt=media&token=1417b5e1-3de1-4077-9345-b222a4e805ee',\n",
              " 'front': 'https://firebasestorage.googleapis.com/v0/b/mystryworld-4159d.appspot.com/o/shoes%2FlowRes%2F-MkI_UIKBFkNFyiua4IM%2Fshoeid-2.PNG?alt=media&token=0f5a7273-dd14-4301-ab02-6ac620a0fa70',\n",
              " 'left': 'https://firebasestorage.googleapis.com/v0/b/mystryworld-4159d.appspot.com/o/shoes%2FlowRes%2F-MkI_UIKBFkNFyiua4IM%2Fshoeid-3.PNG?alt=media&token=0c979847-99d0-40e6-907f-2297e7f8a5f6',\n",
              " 'right': 'https://firebasestorage.googleapis.com/v0/b/mystryworld-4159d.appspot.com/o/shoes%2FlowRes%2F-MkI_UIKBFkNFyiua4IM%2Fshoeid-1.PNG?alt=media&token=1c8392c4-c17f-4cb8-8017-a26b50a98f9e',\n",
              " 'sole': 'https://firebasestorage.googleapis.com/v0/b/mystryworld-4159d.appspot.com/o/shoes%2FlowRes%2F-MkI_UIKBFkNFyiua4IM%2Fshoeid-5.PNG?alt=media&token=92c9532a-ad9c-4921-90e4-f3ebfd5963fd'}"
            ]
          },
          "metadata": {},
          "execution_count": 121
        }
      ]
    },
    {
      "cell_type": "markdown",
      "source": [
        "Convert `http://......` to `gs://..` as we need the Google `URI` and not the `URL` of the image"
      ],
      "metadata": {
        "id": "FEjjztG_Ages"
      }
    },
    {
      "cell_type": "code",
      "source": [
        "def url2gs_uri(url):\n",
        "  unq_spl = urllib.parse.unquote(url).split('?')[0].split('/')\n",
        "  gs_uri = ['gs:/'] + [unq_spl[5]] + unq_spl[7:]\n",
        "  return(\"/\".join(gs_uri))\n",
        "http_url = data[data.keys()[0]][\"shoeImg\"]['lowRes']\n",
        "gs_uri = url2gs_uri(http_url)\n",
        "print(f\"URL: {http_url}\")\n",
        "print(f\"URI: {gs_uri}\")"
      ],
      "metadata": {
        "id": "2xO4hyDvAfhF"
      },
      "execution_count": null,
      "outputs": []
    },
    {
      "cell_type": "markdown",
      "source": [
        "Build record array so that pandas DataFrame can be created easily and then easily converted to `.csv`"
      ],
      "metadata": {
        "id": "3hopnwrmAgAn"
      }
    },
    {
      "cell_type": "code",
      "metadata": {
        "id": "aZiXFLO1pcMw",
        "colab": {
          "base_uri": "https://localhost:8080/"
        },
        "outputId": "f768e8d5-d4ed-4c22-a0b4-518178c1bd4c"
      },
      "source": [
        "records_arr = []\n",
        "arr_id=[]\n",
        "# f= open('/content/mystryworld-4159d-default-rtdb-shoes-export.json')\n",
        "data = rtdbjson\n",
        "print(type(data))\n",
        "for s_id in data.keys():\n",
        "  lowRes_im = data[s_id][\"shoeImg\"]['lowRes']\n",
        "  s_images = lowRes_im\n",
        "  s_name= data[s_id]['shoeName']\n",
        "  s_colorway= \"colorway=\" + data[s_id]['shoeColorway']\n",
        "  s_silhouette= \" silhouette=\" + data[s_id]['silhouette']\n",
        "  #print(s_name)\n",
        "  #print(s_colorway)\n",
        "  for im in s_images.keys():\n",
        "    if im == 'sole':\n",
        "      continue\n",
        "    record = {\n",
        "        \"image-uri\": url2gs_uri(lowRes_im[im]),\n",
        "        \"image-id\": s_id + \"_\" + im, \n",
        "        \"product-set-id\": p_set_id,\n",
        "        \"product-id\": s_id,\n",
        "        \"product-category\": \"apparel-v2\",\n",
        "        \"product-display-name\": s_name,\n",
        "        \"labels\": s_colorway+\",\"+s_silhouette,\n",
        "        \"bounding-poly\": None\n",
        "        }\n",
        "    records_arr.append(record)\n",
        "bulk_import_df = pd.DataFrame.from_records(records_arr)\n",
        "bulk_import_df.to_csv(\"mystry-sneakers-bulk-import.csv\", index=False)\n",
        "print(\"CSV created\")\n"
      ],
      "execution_count": null,
      "outputs": [
        {
          "output_type": "stream",
          "name": "stdout",
          "text": [
            "<class 'dict'>\n"
          ]
        }
      ]
    },
    {
      "cell_type": "markdown",
      "source": [
        "Sanity Check"
      ],
      "metadata": {
        "id": "GZmJH-MXBp2m"
      }
    },
    {
      "cell_type": "code",
      "source": [
        "print(bulk_import_df.values[0])\n",
        "bulk_import_df[-2:]"
      ],
      "metadata": {
        "colab": {
          "base_uri": "https://localhost:8080/",
          "height": 330
        },
        "id": "WWLrk1fVtNbr",
        "outputId": "f85a4b36-cb0e-4d63-a292-2cffcb84d1c3"
      },
      "execution_count": null,
      "outputs": [
        {
          "output_type": "execute_result",
          "data": {
            "text/html": [
              "\n",
              "  <div id=\"df-e1264310-b373-44bd-9233-2cd15b664bb1\">\n",
              "    <div class=\"colab-df-container\">\n",
              "      <div>\n",
              "<style scoped>\n",
              "    .dataframe tbody tr th:only-of-type {\n",
              "        vertical-align: middle;\n",
              "    }\n",
              "\n",
              "    .dataframe tbody tr th {\n",
              "        vertical-align: top;\n",
              "    }\n",
              "\n",
              "    .dataframe thead th {\n",
              "        text-align: right;\n",
              "    }\n",
              "</style>\n",
              "<table border=\"1\" class=\"dataframe\">\n",
              "  <thead>\n",
              "    <tr style=\"text-align: right;\">\n",
              "      <th></th>\n",
              "      <th>image-uri</th>\n",
              "      <th>image-id</th>\n",
              "      <th>product-set-id</th>\n",
              "      <th>product-id</th>\n",
              "      <th>product-category</th>\n",
              "      <th>product-display-name</th>\n",
              "      <th>labels</th>\n",
              "      <th>bounding-poly</th>\n",
              "    </tr>\n",
              "  </thead>\n",
              "  <tbody>\n",
              "    <tr>\n",
              "      <th>0</th>\n",
              "      <td>gs://mystryworld-4159d.appspot.com/shoes/lowRe...</td>\n",
              "      <td>-MkI_UIKBFkNFyiua4IM_back</td>\n",
              "      <td>mystry-sneaker-set</td>\n",
              "      <td>-MkI_UIKBFkNFyiua4IM</td>\n",
              "      <td>apparel-v2</td>\n",
              "      <td>Jordan 1 Retro High OG Hyper Royal</td>\n",
              "      <td>colorway=Hyper Royal/Light Smoke Grey/White, s...</td>\n",
              "      <td>None</td>\n",
              "    </tr>\n",
              "    <tr>\n",
              "      <th>1</th>\n",
              "      <td>gs://mystryworld-4159d.appspot.com/shoes/lowRe...</td>\n",
              "      <td>-MkI_UIKBFkNFyiua4IM_front</td>\n",
              "      <td>mystry-sneaker-set</td>\n",
              "      <td>-MkI_UIKBFkNFyiua4IM</td>\n",
              "      <td>apparel-v2</td>\n",
              "      <td>Jordan 1 Retro High OG Hyper Royal</td>\n",
              "      <td>colorway=Hyper Royal/Light Smoke Grey/White, s...</td>\n",
              "      <td>None</td>\n",
              "    </tr>\n",
              "  </tbody>\n",
              "</table>\n",
              "</div>\n",
              "      <button class=\"colab-df-convert\" onclick=\"convertToInteractive('df-e1264310-b373-44bd-9233-2cd15b664bb1')\"\n",
              "              title=\"Convert this dataframe to an interactive table.\"\n",
              "              style=\"display:none;\">\n",
              "        \n",
              "  <svg xmlns=\"http://www.w3.org/2000/svg\" height=\"24px\"viewBox=\"0 0 24 24\"\n",
              "       width=\"24px\">\n",
              "    <path d=\"M0 0h24v24H0V0z\" fill=\"none\"/>\n",
              "    <path d=\"M18.56 5.44l.94 2.06.94-2.06 2.06-.94-2.06-.94-.94-2.06-.94 2.06-2.06.94zm-11 1L8.5 8.5l.94-2.06 2.06-.94-2.06-.94L8.5 2.5l-.94 2.06-2.06.94zm10 10l.94 2.06.94-2.06 2.06-.94-2.06-.94-.94-2.06-.94 2.06-2.06.94z\"/><path d=\"M17.41 7.96l-1.37-1.37c-.4-.4-.92-.59-1.43-.59-.52 0-1.04.2-1.43.59L10.3 9.45l-7.72 7.72c-.78.78-.78 2.05 0 2.83L4 21.41c.39.39.9.59 1.41.59.51 0 1.02-.2 1.41-.59l7.78-7.78 2.81-2.81c.8-.78.8-2.07 0-2.86zM5.41 20L4 18.59l7.72-7.72 1.47 1.35L5.41 20z\"/>\n",
              "  </svg>\n",
              "      </button>\n",
              "      \n",
              "  <style>\n",
              "    .colab-df-container {\n",
              "      display:flex;\n",
              "      flex-wrap:wrap;\n",
              "      gap: 12px;\n",
              "    }\n",
              "\n",
              "    .colab-df-convert {\n",
              "      background-color: #E8F0FE;\n",
              "      border: none;\n",
              "      border-radius: 50%;\n",
              "      cursor: pointer;\n",
              "      display: none;\n",
              "      fill: #1967D2;\n",
              "      height: 32px;\n",
              "      padding: 0 0 0 0;\n",
              "      width: 32px;\n",
              "    }\n",
              "\n",
              "    .colab-df-convert:hover {\n",
              "      background-color: #E2EBFA;\n",
              "      box-shadow: 0px 1px 2px rgba(60, 64, 67, 0.3), 0px 1px 3px 1px rgba(60, 64, 67, 0.15);\n",
              "      fill: #174EA6;\n",
              "    }\n",
              "\n",
              "    [theme=dark] .colab-df-convert {\n",
              "      background-color: #3B4455;\n",
              "      fill: #D2E3FC;\n",
              "    }\n",
              "\n",
              "    [theme=dark] .colab-df-convert:hover {\n",
              "      background-color: #434B5C;\n",
              "      box-shadow: 0px 1px 3px 1px rgba(0, 0, 0, 0.15);\n",
              "      filter: drop-shadow(0px 1px 2px rgba(0, 0, 0, 0.3));\n",
              "      fill: #FFFFFF;\n",
              "    }\n",
              "  </style>\n",
              "\n",
              "      <script>\n",
              "        const buttonEl =\n",
              "          document.querySelector('#df-e1264310-b373-44bd-9233-2cd15b664bb1 button.colab-df-convert');\n",
              "        buttonEl.style.display =\n",
              "          google.colab.kernel.accessAllowed ? 'block' : 'none';\n",
              "\n",
              "        async function convertToInteractive(key) {\n",
              "          const element = document.querySelector('#df-e1264310-b373-44bd-9233-2cd15b664bb1');\n",
              "          const dataTable =\n",
              "            await google.colab.kernel.invokeFunction('convertToInteractive',\n",
              "                                                     [key], {});\n",
              "          if (!dataTable) return;\n",
              "\n",
              "          const docLinkHtml = 'Like what you see? Visit the ' +\n",
              "            '<a target=\"_blank\" href=https://colab.research.google.com/notebooks/data_table.ipynb>data table notebook</a>'\n",
              "            + ' to learn more about interactive tables.';\n",
              "          element.innerHTML = '';\n",
              "          dataTable['output_type'] = 'display_data';\n",
              "          await google.colab.output.renderOutput(dataTable, element);\n",
              "          const docLink = document.createElement('div');\n",
              "          docLink.innerHTML = docLinkHtml;\n",
              "          element.appendChild(docLink);\n",
              "        }\n",
              "      </script>\n",
              "    </div>\n",
              "  </div>\n",
              "  "
            ],
            "text/plain": [
              "                                           image-uri  ... bounding-poly\n",
              "0  gs://mystryworld-4159d.appspot.com/shoes/lowRe...  ...          None\n",
              "1  gs://mystryworld-4159d.appspot.com/shoes/lowRe...  ...          None\n",
              "\n",
              "[2 rows x 8 columns]"
            ]
          },
          "metadata": {},
          "execution_count": 125
        }
      ]
    },
    {
      "cell_type": "markdown",
      "source": [
        "### Create `POST` request body needed for starting the indexing operation\n"
      ],
      "metadata": {
        "id": "yQS_gSUTCXIQ"
      }
    },
    {
      "cell_type": "code",
      "metadata": {
        "id": "ugysYIHpchJ5"
      },
      "source": [
        "with open(\"import_request.json\", \"w\") as fil:\n",
        "  fil.write(f\"\"\"\n",
        "  {{\n",
        "  \"inputConfig\": {{\n",
        "    \"gcsSource\": {{\n",
        "      \"csvFileUri\": \"{bulk_import_csv_uri}\"\n",
        "    }}\n",
        "  }}\n",
        "}}\"\"\")\n"
      ],
      "execution_count": null,
      "outputs": []
    },
    {
      "cell_type": "markdown",
      "metadata": {
        "id": "m-PgeicbMZPX"
      },
      "source": [
        "## Now automatically upload the csv file to the bucket\n",
        "Note down the uri (starts with `gs://`) of the csv in the bucket <br>\n",
        "Then: Create import request"
      ]
    },
    {
      "cell_type": "code",
      "metadata": {
        "id": "JYumh8xvO9XX"
      },
      "source": [
        "client = storage.Client(project=PROJ_ID)\n",
        "bucket = client.get_bucket(BUCKET_ID)\n",
        "blob = bucket.blob('mystry-sneakers-bulk-import.csv')\n",
        "blob.upload_from_filename('/content/mystry-sneakers-bulk-import.csv')\n",
        "blob2 = bucket.blob('import_request.json')\n",
        "blob2.upload_from_filename('/content/import_request.json')"
      ],
      "execution_count": null,
      "outputs": []
    },
    {
      "cell_type": "markdown",
      "metadata": {
        "id": "I5E09fidgRnw"
      },
      "source": [
        "# Start Indexing operation\n",
        "On success, output will be\n",
        "```\n",
        "{\"name\": \"projects/mystryvision/locations/us-east1/operations/<some_code>\"}\n",
        "```"
      ]
    },
    {
      "cell_type": "code",
      "metadata": {
        "id": "TrWiwhcq0uSx"
      },
      "source": [
        "index_operation = !curl -X POST -H \"Authorization: Bearer \"$(gcloud auth application-default print-access-token) -H \"Content-Type: application/json; charset=utf-8\" -d @import_request.json https://vision.googleapis.com/v1/projects/mystryvision/locations/us-east1/productSets:import\n"
      ],
      "execution_count": null,
      "outputs": []
    },
    {
      "cell_type": "code",
      "source": [
        "operation_json = json.loads(\"\".join(index_operation))\n",
        "operation_id = operation_json['name'].split('/')[-1]\n",
        "print(operation_json)\n",
        "print(f\"Operation ID: {operation_id}\")"
      ],
      "metadata": {
        "colab": {
          "base_uri": "https://localhost:8080/"
        },
        "id": "prGYD3Y1ePTr",
        "outputId": "86004db0-594f-4c2d-9007-dad99f01c3d6"
      },
      "execution_count": null,
      "outputs": [
        {
          "output_type": "stream",
          "name": "stdout",
          "text": [
            "{'name': 'projects/mystryvision/locations/us-east1/operations/82959e2d1fcceb29'}\n",
            "Operation ID: 82959e2d1fcceb29\n"
          ]
        }
      ]
    },
    {
      "cell_type": "markdown",
      "metadata": {
        "id": "seMeLDs1g3N0"
      },
      "source": [
        "# Check status of operation\n",
        "On success, the response will have a key `\"state\": \"SUCCESSFUL\"`. At the end of the response there will be a number of empty `{}`'s"
      ]
    },
    {
      "cell_type": "code",
      "metadata": {
        "colab": {
          "base_uri": "https://localhost:8080/"
        },
        "id": "FYNdTno11q_A",
        "outputId": "c93a428f-67ee-449d-9f46-3ac898c4e5bc"
      },
      "source": [
        "status = !curl -X GET \\\n",
        "-H \"Authorization: Bearer $(gcloud auth application-default print-access-token)\" \\\n",
        "-H \"Content-Type: application/json\" \\\n",
        "https://vision.googleapis.com/v1/locations/us-east1/operations/{operation_id}\n",
        "print(\"\\n\".join(status))"
      ],
      "execution_count": null,
      "outputs": [
        {
          "output_type": "stream",
          "name": "stdout",
          "text": [
            "{\n",
            "  \"name\": \"locations/us-east1/operations/82959e2d1fcceb29\",\n",
            "  \"metadata\": {\n",
            "    \"@type\": \"type.googleapis.com/google.cloud.vision.v1.BatchOperationMetadata\",\n",
            "    \"state\": \"PROCESSING\",\n",
            "    \"submitTime\": \"2022-01-20T19:30:57.176899212Z\"\n",
            "  }\n",
            "}\n"
          ]
        }
      ]
    },
    {
      "cell_type": "code",
      "metadata": {
        "id": "ZuqYQ9XX11xs"
      },
      "source": [
        ""
      ],
      "execution_count": null,
      "outputs": []
    },
    {
      "cell_type": "markdown",
      "metadata": {
        "id": "KEkLDPvqha84"
      },
      "source": [
        "# Wait for 30 - 60 minutes"
      ]
    },
    {
      "cell_type": "markdown",
      "metadata": {
        "id": "056KAi8LhgfV"
      },
      "source": [
        "# Query the API"
      ]
    },
    {
      "cell_type": "code",
      "metadata": {
        "id": "1s4ajXcW_KwQ"
      },
      "source": [
        "from google.cloud import vision\n",
        "\n",
        "def get_similar_products_file(\n",
        "        project_id, location, product_set_id, product_category,\n",
        "        file_path, filter):\n",
        "    \"\"\"Search similar products to image.\n",
        "    Args:\n",
        "        project_id: Id of the project.\n",
        "        location: A compute region name.\n",
        "        product_set_id: Id of the product set.\n",
        "        product_category: Category of the product.\n",
        "        file_path: Local file path of the image to be searched.\n",
        "        filter: Condition to be applied on the labels.\n",
        "        Example for filter: (color = red OR color = blue) AND style = kids\n",
        "        It will search on all products with the following labels:\n",
        "        color:red AND style:kids\n",
        "        color:blue AND style:kids\n",
        "    \"\"\"\n",
        "    # product_search_client is needed only for its helper methods.\n",
        "    product_search_client = vision.ProductSearchClient()\n",
        "    image_annotator_client = vision.ImageAnnotatorClient()\n",
        "\n",
        "    # Read the image as a stream of bytes.\n",
        "    with open(file_path, 'rb') as image_file:\n",
        "        content = image_file.read()\n",
        "\n",
        "    # Create annotate image request along with product search feature.\n",
        "    image = vision.Image(content=content)\n",
        "\n",
        "    # product search specific parameters\n",
        "    product_set_path = product_search_client.product_set_path(\n",
        "        project=project_id, location=location,\n",
        "        product_set=product_set_id)\n",
        "    product_search_params = vision.ProductSearchParams(\n",
        "        product_set=product_set_path,\n",
        "        product_categories=[product_category],\n",
        "        filter=filter)\n",
        "    image_context = vision.ImageContext(\n",
        "        product_search_params=product_search_params)\n",
        "\n",
        "    # Search products similar to the image.\n",
        "    response = image_annotator_client.product_search(\n",
        "        image, image_context=image_context)\n",
        "\n",
        "    index_time = response.product_search_results.index_time\n",
        "    print('Product set index time: ')\n",
        "    print(index_time)\n",
        "\n",
        "    results = response.product_search_results.results\n",
        "\n",
        "    print('Search results:')\n",
        "    for result in results:\n",
        "        product = result.product\n",
        "\n",
        "        print('Score(Confidence): {}'.format(result.score))\n",
        "        print('Image name: {}'.format(result.image))\n",
        "\n",
        "        print('Product name: {}'.format(product.name))\n",
        "        print('Product display name: {}'.format(\n",
        "            product.display_name))\n",
        "        print('Product description: {}\\n'.format(product.description))\n",
        "        print('Product labels: {}\\n'.format(product.product_labels))\n",
        "    return response"
      ],
      "execution_count": null,
      "outputs": []
    },
    {
      "cell_type": "code",
      "metadata": {
        "colab": {
          "base_uri": "https://localhost:8080/"
        },
        "id": "dg-nRnZXRvao",
        "outputId": "bed8e3b5-7b2b-4b77-8291-3cd7c037e8a7"
      },
      "source": [
        "!wget https://cdn.shopify.com/s/files/1/0256/6658/4658/files/Travis_Scott_x_Air_Jordan_1_Retro_High_OG_Mocha.jpg \n",
        "!wget https://images.stockx.com/images/Nike-Dunk-Low-UNC-2021-Product.jpg?fit=fill&bg=FFFFFF&w=700&h=500&auto=format,compress&q=90&dpr=2&trim=color&updated_at=1624468252\n",
        "!wget https://cdn.shopify.com/s/files/1/0255/9429/8467/files/nike-dunk-low-university-blue-on-foot_600x600.jpg?v=1625489247"
      ],
      "execution_count": null,
      "outputs": [
        {
          "output_type": "stream",
          "name": "stdout",
          "text": [
            "--2022-01-20 17:54:38--  https://cdn.shopify.com/s/files/1/0256/6658/4658/files/Travis_Scott_x_Air_Jordan_1_Retro_High_OG_Mocha.jpg\n",
            "Resolving cdn.shopify.com (cdn.shopify.com)... 151.101.1.12, 151.101.65.12, 151.101.193.12, ...\n",
            "Connecting to cdn.shopify.com (cdn.shopify.com)|151.101.1.12|:443... connected.\n",
            "HTTP request sent, awaiting response... 200 OK\n",
            "Length: 211775 (207K) [image/jpeg]\n",
            "Saving to: ‘Travis_Scott_x_Air_Jordan_1_Retro_High_OG_Mocha.jpg’\n",
            "\n",
            "\r          Travis_Sc   0%[                    ]       0  --.-KB/s               \rTravis_Scott_x_Air_ 100%[===================>] 206.81K  --.-KB/s    in 0.009s  \n",
            "\n",
            "2022-01-20 17:54:38 (21.5 MB/s) - ‘Travis_Scott_x_Air_Jordan_1_Retro_High_OG_Mocha.jpg’ saved [211775/211775]\n",
            "\n",
            "--2022-01-20 17:54:38--  https://images.stockx.com/images/Nike-Dunk-Low-UNC-2021-Product.jpg?fit=fill\n",
            "Resolving images.stockx.com (images.stockx.com)... 104.19.222.38, 104.19.221.38, 2606:4700::6813:dd26, ...\n",
            "Connecting to images.stockx.com (images.stockx.com)|104.19.222.38|:443... connected.\n",
            "HTTP request sent, awaiting response... 200 OK\n",
            "Length: 174526 (170K) [image/jpeg]\n",
            "Saving to: ‘Nike-Dunk-Low-UNC-2021-Product.jpg?fit=fill’\n",
            "\n",
            "Nike-Dunk-Low-UNC-2 100%[===================>] 170.44K  --.-KB/s    in 0.01s   \n",
            "\n",
            "2022-01-20 17:54:38 (15.7 MB/s) - ‘Nike-Dunk-Low-UNC-2021-Product.jpg?fit=fill’ saved [174526/174526]\n",
            "\n",
            "--2022-01-20 17:54:38--  https://cdn.shopify.com/s/files/1/0255/9429/8467/files/nike-dunk-low-university-blue-on-foot_600x600.jpg?v=1625489247\n",
            "Resolving cdn.shopify.com (cdn.shopify.com)... 151.101.1.12, 151.101.65.12, 151.101.193.12, ...\n",
            "Connecting to cdn.shopify.com (cdn.shopify.com)|151.101.1.12|:443... connected.\n",
            "HTTP request sent, awaiting response... 200 OK\n",
            "Length: 47137 (46K) [image/jpeg]\n",
            "Saving to: ‘nike-dunk-low-university-blue-on-foot_600x600.jpg?v=1625489247’\n",
            "\n",
            "nike-dunk-low-unive 100%[===================>]  46.03K  --.-KB/s    in 0.004s  \n",
            "\n",
            "2022-01-20 17:54:38 (11.6 MB/s) - ‘nike-dunk-low-university-blue-on-foot_600x600.jpg?v=1625489247’ saved [47137/47137]\n",
            "\n"
          ]
        }
      ]
    },
    {
      "cell_type": "code",
      "metadata": {
        "colab": {
          "base_uri": "https://localhost:8080/"
        },
        "id": "oDnbSrG1RMOE",
        "outputId": "a327106e-3a28-4506-ede5-21a23cd80bd9"
      },
      "source": [
        "product_category = 'apparel-v2'\n",
        "# path2 = \"./Travis_Scott_x_Air_Jordan_1_Retro_High_OG_Mocha.jpg\"\n",
        "# path2 =  \"/content/Nike-Dunk-Low-UNC-2021-Product.jpg?fit=fill\"\n",
        "path2 = \"/content/nike-dunk-low-university-blue-on-foot_600x600.jpg?v=1625489247\"\n",
        "# gspath = \"gs://cv-bucket-1/Nike-Dunk-Low-UNC-2021-Product.jpeg\" \n",
        "resp = get_similar_products_file(PROJ_ID, LOCATION, p_set_id, product_category, path2, \"\")"
      ],
      "execution_count": null,
      "outputs": [
        {
          "output_type": "stream",
          "name": "stdout",
          "text": [
            "Product set index time: \n",
            "2022-01-20 17:24:29.438096+00:00\n",
            "Search results:\n",
            "Score(Confidence): 0.6936774253845215\n",
            "Image name: projects/mystryvision/locations/us-east1/products/-MmZW_uOiPHJKMpRCUyf/referenceImages/-MmZW_uOiPHJKMpRCUyf_shoeid-3.PNG\n",
            "Product name: projects/mystryvision/locations/us-east1/products/-MmZW_uOiPHJKMpRCUyf\n",
            "Product display name: \"Dunk Low 'University Blue' \"\n",
            "Product description: \n",
            "\n",
            "Product labels: [key: \"colorway\"\n",
            "value: \"White/University Blue/White silhouette=Dunk Low\"\n",
            "]\n",
            "\n",
            "Score(Confidence): 0.6669532060623169\n",
            "Image name: projects/mystryvision/locations/us-east1/products/-MmZe5bj_6LH_QBGbAoO/referenceImages/-MmZe5bj_6LH_QBGbAoO_shoeid-1.PNG\n",
            "Product name: projects/mystryvision/locations/us-east1/products/-MmZe5bj_6LH_QBGbAoO\n",
            "Product display name: Wmns Dunk Low 'Coast'\n",
            "Product description: \n",
            "\n",
            "Product labels: [key: \"colorway\"\n",
            "value: \"Sail/Coast/University Gold silhouette=Dunk Low\"\n",
            "]\n",
            "\n",
            "Score(Confidence): 0.5352774858474731\n",
            "Image name: projects/mystryvision/locations/us-east1/products/-MmBN17bfDVx8HNMN1Jx/referenceImages/-MmBN17bfDVx8HNMN1Jx_shoeid-3.PNG\n",
            "Product name: projects/mystryvision/locations/us-east1/products/-MmBN17bfDVx8HNMN1Jx\n",
            "Product display name: Dunk Low Retro SP 'Kentucky'\n",
            "Product description: \n",
            "\n",
            "Product labels: [key: \"colorway\"\n",
            "value: \"White/Varsity Royal silhouette=Dunk Low\"\n",
            "]\n",
            "\n",
            "Score(Confidence): 0.4122026860713959\n",
            "Image name: projects/mystryvision/locations/us-east1/products/-MmQbfHWGzF9tUWZrUY-/referenceImages/-MmQbfHWGzF9tUWZrUY-_shoeid-3.PNG\n",
            "Product name: projects/mystryvision/locations/us-east1/products/-MmQbfHWGzF9tUWZrUY-\n",
            "Product display name: Sean Cliver x Dunk Low SB 'Holiday Special'\n",
            "Product description: \n",
            "\n",
            "Product labels: [key: \"colorway\"\n",
            "value: \"White/Psychic Blue/Metallic Gold silhouette=Dunk Low SB\"\n",
            "]\n",
            "\n",
            "Score(Confidence): 0.4075658619403839\n",
            "Image name: projects/mystryvision/locations/us-east1/products/-MmZcN9flJ346-snmAuF/referenceImages/-MmZcN9flJ346-snmAuF_shoeid-1.PNG\n",
            "Product name: projects/mystryvision/locations/us-east1/products/-MmZcN9flJ346-snmAuF\n",
            "Product display name: Dunk Low SP 'UNLV' 2021\n",
            "Product description: \n",
            "\n",
            "Product labels: [key: \"colorway\"\n",
            "value: \"Medium Grey/Varsity Red/White silhouette=Dunk Low\"\n",
            "]\n",
            "\n",
            "Score(Confidence): 0.4073542356491089\n",
            "Image name: projects/mystryvision/locations/us-east1/products/-MmZWJ1LXkUWqz_wOSme/referenceImages/-MmZWJ1LXkUWqz_wOSme_shoeid-3.PNG\n",
            "Product name: projects/mystryvision/locations/us-east1/products/-MmZWJ1LXkUWqz_wOSme\n",
            "Product display name: Wmns Dunk Low 'Laser Orange'\n",
            "Product description: \n",
            "\n",
            "Product labels: [key: \"colorway\"\n",
            "value: \"Laser Orange/Laser Orange/Sail silhouette=Dunk Low\"\n",
            "]\n",
            "\n",
            "Score(Confidence): 0.405638724565506\n",
            "Image name: projects/mystryvision/locations/us-east1/products/-MmBHx_cbr95ZBAA8fAn/referenceImages/-MmBHx_cbr95ZBAA8fAn_shoeid-1.PNG\n",
            "Product name: projects/mystryvision/locations/us-east1/products/-MmBHx_cbr95ZBAA8fAn\n",
            "Product display name: Dunk Low Retro SP 'St. John's'\n",
            "Product description: \n",
            "\n",
            "Product labels: [key: \"colorway\"\n",
            "value: \"White/University Red silhouette=Dunk Low\"\n",
            "]\n",
            "\n",
            "Score(Confidence): 0.4003429412841797\n",
            "Image name: projects/mystryvision/locations/us-east1/products/-MmZkbHNKxYkVg7LO3CR/referenceImages/-MmZkbHNKxYkVg7LO3CR_shoeid-1.PNG\n",
            "Product name: projects/mystryvision/locations/us-east1/products/-MmZkbHNKxYkVg7LO3CR\n",
            "Product display name: Dunk Low Pro SB 'Gulf'\n",
            "Product description: \n",
            "\n",
            "Product labels: [key: \"colorway\"\n",
            "value: \"Blue Chill/Safety Orange/Black/White silhouette=Dunk Low SB\"\n",
            "]\n",
            "\n",
            "Score(Confidence): 0.39753884077072144\n",
            "Image name: projects/mystryvision/locations/us-east1/products/-MmZZaHGi8trUrrZagUw/referenceImages/-MmZZaHGi8trUrrZagUw_shoeid-2.PNG\n",
            "Product name: projects/mystryvision/locations/us-east1/products/-MmZZaHGi8trUrrZagUw\n",
            "Product display name: Dunk Low 'Michigan State'/spartan green\n",
            "Product description: \n",
            "\n",
            "Product labels: [key: \"colorway\"\n",
            "value: \"White/Team Green/White/Total Orange silhouette=Dunk Low\"\n",
            "]\n",
            "\n",
            "Score(Confidence): 0.3969365060329437\n",
            "Image name: projects/mystryvision/locations/us-east1/products/-MmBJBF6KItWilZxivp_/referenceImages/-MmBJBF6KItWilZxivp__shoeid-2.PNG\n",
            "Product name: projects/mystryvision/locations/us-east1/products/-MmBJBF6KItWilZxivp_\n",
            "Product display name: Dunk Low Retro SP 'Syracuse'\n",
            "Product description: \n",
            "\n",
            "Product labels: [key: \"colorway\"\n",
            "value: \"White/Orange Blaze silhouette=Dunk Low\"\n",
            "]\n",
            "\n"
          ]
        }
      ]
    },
    {
      "cell_type": "code",
      "metadata": {
        "id": "4Ya9NqZGRy_h"
      },
      "source": [
        ""
      ],
      "execution_count": null,
      "outputs": []
    },
    {
      "cell_type": "code",
      "metadata": {
        "id": "z4tMkLIPZkGg"
      },
      "source": [
        ""
      ],
      "execution_count": null,
      "outputs": []
    }
  ]
}