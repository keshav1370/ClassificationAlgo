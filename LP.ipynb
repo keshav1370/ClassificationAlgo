{
 "cells": [
  {
   "cell_type": "code",
   "execution_count": 15,
   "metadata": {
    "id": "5dgkfgZsqRiN"
   },
   "outputs": [],
   "source": [
    "import numpy as np\n",
    "import pandas as pd"
   ]
  },
  {
   "cell_type": "code",
   "execution_count": 16,
   "metadata": {
    "id": "WhqAmnj_tzat"
   },
   "outputs": [],
   "source": [
    "def splitData(X, y, seed):\n",
    "    length = int(0.7*len(X))\n",
    "    points = np.arange(X.shape[0])\n",
    "    np.random.seed(seed)\n",
    "    np.random.shuffle(points)\n",
    "    train_data = points[:length]\n",
    "    test_data = points[length:]\n",
    "\n",
    "    X_train = X.iloc[train_data]\n",
    "    X_test =   X.iloc[test_data]\n",
    "    y_train = y.iloc[train_data]\n",
    "    y_test = y.iloc[test_data]\n",
    "    \n",
    "    return X_train, y_train, X_test, y_test"
   ]
  },
  {
   "cell_type": "code",
   "execution_count": 17,
   "metadata": {
    "id": "cLjcix7wtx3j"
   },
   "outputs": [],
   "source": [
    "def preprocess(data):\n",
    "    y = data.iloc[:, -1]\n",
    "    \n",
    "    X = data.iloc[:, :-1]\n",
    "    X = (X-X.mean(axis= 0)) / X.std(axis= 0)\n",
    "    \n",
    "    return X, y"
   ]
  },
  {
   "cell_type": "code",
   "execution_count": 18,
   "metadata": {
    "id": "3OYXXuGL7bC2"
   },
   "outputs": [],
   "source": [
    "def step_function_output(X):\n",
    "        return np.where(X >= 0, 1, -1)"
   ]
  },
  {
   "cell_type": "code",
   "execution_count": 19,
   "metadata": {
    "id": "ZJERHHaNvt6H"
   },
   "outputs": [],
   "source": [
    "def fit(X, y):\n",
    "        no_of_samples, no_of_features = X.shape\n",
    "\n",
    "        W = np.zeros(no_of_features)\n",
    "        W_zero= 0\n",
    "        lr=1\n",
    "        \n",
    "        \n",
    "        old_l=0\n",
    "        new_l=0\n",
    "        for i in range(1000):\n",
    "            new_l=0\n",
    "        \n",
    "            for idx, x_val in enumerate(X):\n",
    "                linear_out = np.dot(x_val, W) + W_zero\n",
    "                y_pred = step_function_output(linear_out)\n",
    "                udt = lr * ((y[idx] - y_pred)/2)\n",
    "                W += udt * x_val\n",
    "                W_zero += udt\n",
    "                if(udt!=0):\n",
    "                  new_l+= y[idx]*(W_zero+np.dot(x_val,W))\n",
    "            if(new_l==old_l):\n",
    "                break\n",
    "            else:\n",
    "                old_l=new_l\n",
    "                \n",
    "        \n",
    "        return W, W_zero"
   ]
  },
  {
   "cell_type": "code",
   "execution_count": 20,
   "metadata": {
    "id": "KJ4-ZV4X8mTy"
   },
   "outputs": [],
   "source": [
    "def predict(X, W, W_zero):\n",
    "        linear_out = np.dot(X, W) + W_zero\n",
    "        y_predict = step_function_output(linear_out)\n",
    "        y_predict = np.array(y_predict)\n",
    "        return y_predict"
   ]
  },
  {
   "cell_type": "code",
   "execution_count": 21,
   "metadata": {
    "id": "H24wtXS68mOH"
   },
   "outputs": [],
   "source": [
    "def accuracy(y_t, y_predict):\n",
    "        acc = (np.sum(y_t == y_predict)) / len(y_t)\n",
    "        return acc"
   ]
  },
  {
   "cell_type": "code",
   "execution_count": 22,
   "metadata": {
    "colab": {
     "base_uri": "https://localhost:8080/",
     "height": 424
    },
    "id": "rA-CzLx1qbnO",
    "outputId": "cc54a81d-adbe-47a0-9b08-e254618587c4"
   },
   "outputs": [
    {
     "data": {
      "text/html": [
       "<div>\n",
       "<style scoped>\n",
       "    .dataframe tbody tr th:only-of-type {\n",
       "        vertical-align: middle;\n",
       "    }\n",
       "\n",
       "    .dataframe tbody tr th {\n",
       "        vertical-align: top;\n",
       "    }\n",
       "\n",
       "    .dataframe thead th {\n",
       "        text-align: right;\n",
       "    }\n",
       "</style>\n",
       "<table border=\"1\" class=\"dataframe\">\n",
       "  <thead>\n",
       "    <tr style=\"text-align: right;\">\n",
       "      <th></th>\n",
       "      <th>0</th>\n",
       "      <th>1</th>\n",
       "      <th>2</th>\n",
       "      <th>3</th>\n",
       "      <th>4</th>\n",
       "    </tr>\n",
       "  </thead>\n",
       "  <tbody>\n",
       "    <tr>\n",
       "      <th>0</th>\n",
       "      <td>3.62160</td>\n",
       "      <td>8.66610</td>\n",
       "      <td>-2.8073</td>\n",
       "      <td>-0.44699</td>\n",
       "      <td>-1</td>\n",
       "    </tr>\n",
       "    <tr>\n",
       "      <th>1</th>\n",
       "      <td>4.54590</td>\n",
       "      <td>8.16740</td>\n",
       "      <td>-2.4586</td>\n",
       "      <td>-1.46210</td>\n",
       "      <td>-1</td>\n",
       "    </tr>\n",
       "    <tr>\n",
       "      <th>2</th>\n",
       "      <td>3.86600</td>\n",
       "      <td>-2.63830</td>\n",
       "      <td>1.9242</td>\n",
       "      <td>0.10645</td>\n",
       "      <td>-1</td>\n",
       "    </tr>\n",
       "    <tr>\n",
       "      <th>3</th>\n",
       "      <td>3.45660</td>\n",
       "      <td>9.52280</td>\n",
       "      <td>-4.0112</td>\n",
       "      <td>-3.59440</td>\n",
       "      <td>-1</td>\n",
       "    </tr>\n",
       "    <tr>\n",
       "      <th>4</th>\n",
       "      <td>0.32924</td>\n",
       "      <td>-4.45520</td>\n",
       "      <td>4.5718</td>\n",
       "      <td>-0.98880</td>\n",
       "      <td>-1</td>\n",
       "    </tr>\n",
       "    <tr>\n",
       "      <th>...</th>\n",
       "      <td>...</td>\n",
       "      <td>...</td>\n",
       "      <td>...</td>\n",
       "      <td>...</td>\n",
       "      <td>...</td>\n",
       "    </tr>\n",
       "    <tr>\n",
       "      <th>1367</th>\n",
       "      <td>0.40614</td>\n",
       "      <td>1.34920</td>\n",
       "      <td>-1.4501</td>\n",
       "      <td>-0.55949</td>\n",
       "      <td>1</td>\n",
       "    </tr>\n",
       "    <tr>\n",
       "      <th>1368</th>\n",
       "      <td>-1.38870</td>\n",
       "      <td>-4.87730</td>\n",
       "      <td>6.4774</td>\n",
       "      <td>0.34179</td>\n",
       "      <td>1</td>\n",
       "    </tr>\n",
       "    <tr>\n",
       "      <th>1369</th>\n",
       "      <td>-3.75030</td>\n",
       "      <td>-13.45860</td>\n",
       "      <td>17.5932</td>\n",
       "      <td>-2.77710</td>\n",
       "      <td>1</td>\n",
       "    </tr>\n",
       "    <tr>\n",
       "      <th>1370</th>\n",
       "      <td>-3.56370</td>\n",
       "      <td>-8.38270</td>\n",
       "      <td>12.3930</td>\n",
       "      <td>-1.28230</td>\n",
       "      <td>1</td>\n",
       "    </tr>\n",
       "    <tr>\n",
       "      <th>1371</th>\n",
       "      <td>-2.54190</td>\n",
       "      <td>-0.65804</td>\n",
       "      <td>2.6842</td>\n",
       "      <td>1.19520</td>\n",
       "      <td>1</td>\n",
       "    </tr>\n",
       "  </tbody>\n",
       "</table>\n",
       "<p>1372 rows × 5 columns</p>\n",
       "</div>"
      ],
      "text/plain": [
       "            0         1        2        3  4\n",
       "0     3.62160   8.66610  -2.8073 -0.44699 -1\n",
       "1     4.54590   8.16740  -2.4586 -1.46210 -1\n",
       "2     3.86600  -2.63830   1.9242  0.10645 -1\n",
       "3     3.45660   9.52280  -4.0112 -3.59440 -1\n",
       "4     0.32924  -4.45520   4.5718 -0.98880 -1\n",
       "...       ...       ...      ...      ... ..\n",
       "1367  0.40614   1.34920  -1.4501 -0.55949  1\n",
       "1368 -1.38870  -4.87730   6.4774  0.34179  1\n",
       "1369 -3.75030 -13.45860  17.5932 -2.77710  1\n",
       "1370 -3.56370  -8.38270  12.3930 -1.28230  1\n",
       "1371 -2.54190  -0.65804   2.6842  1.19520  1\n",
       "\n",
       "[1372 rows x 5 columns]"
      ]
     },
     "execution_count": 22,
     "metadata": {},
     "output_type": "execute_result"
    }
   ],
   "source": [
    "df = pd.read_csv('dataset_LP_1.txt',sep = ',', header=None)\n",
    "df.iloc[:,-1]=df.iloc[:,-1].replace(0,-1)\n",
    "df"
   ]
  },
  {
   "cell_type": "code",
   "execution_count": 23,
   "metadata": {},
   "outputs": [],
   "source": [
    "X,y=preprocess(df)\n",
    "X_train, y_train, X_test, y_test = splitData(X, y, 23)\n",
    "X_train = X_train.to_numpy()\n",
    "y_train = y_train.to_numpy()\n",
    "X_test = X_test.to_numpy()\n",
    "y_test = y_test.to_numpy()"
   ]
  },
  {
   "cell_type": "code",
   "execution_count": 24,
   "metadata": {},
   "outputs": [
    {
     "name": "stdout",
     "output_type": "stream",
     "text": [
      "-13.0 [-29.41476719 -33.76451937 -29.85803087  -0.43381488]\n",
      "Accuracy: 0.9927184466019418\n"
     ]
    }
   ],
   "source": [
    "W, W_zero = fit(X_train, y_train)\n",
    "print(W_zero, W)\n",
    "predicts = predict(X_test, W, W_zero)\n",
    "scr = accuracy(y_test, predicts)\n",
    "print(\"Accuracy:\",scr)"
   ]
  },
  {
   "cell_type": "code",
   "execution_count": 25,
   "metadata": {
    "colab": {
     "base_uri": "https://localhost:8080/",
     "height": 424
    },
    "id": "v7H3h6qUr-cx",
    "outputId": "8ec407db-cb20-40df-8456-67c69cb3b7e4"
   },
   "outputs": [
    {
     "data": {
      "text/html": [
       "<div>\n",
       "<style scoped>\n",
       "    .dataframe tbody tr th:only-of-type {\n",
       "        vertical-align: middle;\n",
       "    }\n",
       "\n",
       "    .dataframe tbody tr th {\n",
       "        vertical-align: top;\n",
       "    }\n",
       "\n",
       "    .dataframe thead th {\n",
       "        text-align: right;\n",
       "    }\n",
       "</style>\n",
       "<table border=\"1\" class=\"dataframe\">\n",
       "  <thead>\n",
       "    <tr style=\"text-align: right;\">\n",
       "      <th></th>\n",
       "      <th>0</th>\n",
       "      <th>1</th>\n",
       "      <th>2</th>\n",
       "      <th>3</th>\n",
       "    </tr>\n",
       "  </thead>\n",
       "  <tbody>\n",
       "    <tr>\n",
       "      <th>0</th>\n",
       "      <td>-6.672418</td>\n",
       "      <td>-1.206198</td>\n",
       "      <td>-1.081050</td>\n",
       "      <td>-1</td>\n",
       "    </tr>\n",
       "    <tr>\n",
       "      <th>1</th>\n",
       "      <td>1.675598</td>\n",
       "      <td>0.614994</td>\n",
       "      <td>-0.971600</td>\n",
       "      <td>-1</td>\n",
       "    </tr>\n",
       "    <tr>\n",
       "      <th>2</th>\n",
       "      <td>-4.039058</td>\n",
       "      <td>0.335102</td>\n",
       "      <td>0.544618</td>\n",
       "      <td>1</td>\n",
       "    </tr>\n",
       "    <tr>\n",
       "      <th>3</th>\n",
       "      <td>0.793526</td>\n",
       "      <td>-0.235277</td>\n",
       "      <td>0.551771</td>\n",
       "      <td>1</td>\n",
       "    </tr>\n",
       "    <tr>\n",
       "      <th>4</th>\n",
       "      <td>3.820273</td>\n",
       "      <td>-0.274691</td>\n",
       "      <td>0.454743</td>\n",
       "      <td>1</td>\n",
       "    </tr>\n",
       "    <tr>\n",
       "      <th>...</th>\n",
       "      <td>...</td>\n",
       "      <td>...</td>\n",
       "      <td>...</td>\n",
       "      <td>...</td>\n",
       "    </tr>\n",
       "    <tr>\n",
       "      <th>995</th>\n",
       "      <td>-3.680139</td>\n",
       "      <td>0.966962</td>\n",
       "      <td>-0.904337</td>\n",
       "      <td>-1</td>\n",
       "    </tr>\n",
       "    <tr>\n",
       "      <th>996</th>\n",
       "      <td>-4.063900</td>\n",
       "      <td>0.802611</td>\n",
       "      <td>1.023708</td>\n",
       "      <td>1</td>\n",
       "    </tr>\n",
       "    <tr>\n",
       "      <th>997</th>\n",
       "      <td>-0.814430</td>\n",
       "      <td>-0.693945</td>\n",
       "      <td>0.876776</td>\n",
       "      <td>1</td>\n",
       "    </tr>\n",
       "    <tr>\n",
       "      <th>998</th>\n",
       "      <td>-0.325122</td>\n",
       "      <td>-0.759024</td>\n",
       "      <td>1.299772</td>\n",
       "      <td>1</td>\n",
       "    </tr>\n",
       "    <tr>\n",
       "      <th>999</th>\n",
       "      <td>-1.503431</td>\n",
       "      <td>-0.269458</td>\n",
       "      <td>-1.124390</td>\n",
       "      <td>-1</td>\n",
       "    </tr>\n",
       "  </tbody>\n",
       "</table>\n",
       "<p>1000 rows × 4 columns</p>\n",
       "</div>"
      ],
      "text/plain": [
       "            0         1         2  3\n",
       "0   -6.672418 -1.206198 -1.081050 -1\n",
       "1    1.675598  0.614994 -0.971600 -1\n",
       "2   -4.039058  0.335102  0.544618  1\n",
       "3    0.793526 -0.235277  0.551771  1\n",
       "4    3.820273 -0.274691  0.454743  1\n",
       "..        ...       ...       ... ..\n",
       "995 -3.680139  0.966962 -0.904337 -1\n",
       "996 -4.063900  0.802611  1.023708  1\n",
       "997 -0.814430 -0.693945  0.876776  1\n",
       "998 -0.325122 -0.759024  1.299772  1\n",
       "999 -1.503431 -0.269458 -1.124390 -1\n",
       "\n",
       "[1000 rows x 4 columns]"
      ]
     },
     "execution_count": 25,
     "metadata": {},
     "output_type": "execute_result"
    }
   ],
   "source": [
    "df=pd.read_csv(\"dataset_LP_2.csv\", header=None)\n",
    "df.iloc[:,-1]=df.iloc[:,-1].replace(0,-1)\n",
    "df"
   ]
  },
  {
   "cell_type": "code",
   "execution_count": 26,
   "metadata": {
    "id": "2SCwfKEmtVcq"
   },
   "outputs": [],
   "source": [
    "X,y=preprocess(df)\n",
    "X_train, y_train, X_test, y_test = splitData(X, y, 23)\n",
    "X_train = X_train.to_numpy()\n",
    "y_train = y_train.to_numpy()\n",
    "X_test = X_test.to_numpy()\n",
    "y_test = y_test.to_numpy()"
   ]
  },
  {
   "cell_type": "code",
   "execution_count": 27,
   "metadata": {
    "colab": {
     "base_uri": "https://localhost:8080/"
    },
    "id": "oqzcLsV0vrso",
    "outputId": "fc7b6876-7e2c-4ba4-a8ec-4655be7b2456"
   },
   "outputs": [
    {
     "name": "stdout",
     "output_type": "stream",
     "text": [
      "1.0 [ 0.27553559 -0.29540807  4.77660401]\n",
      "Accuracy: 0.9966666666666667\n"
     ]
    }
   ],
   "source": [
    "W, W_zero = fit(X_train, y_train)\n",
    "print(W_zero, W)\n",
    "predicts = predict(X_test, W, W_zero)\n",
    "scr = accuracy(y_test, predicts)\n",
    "print(\"Accuracy:\",scr)"
   ]
  },
  {
   "cell_type": "code",
   "execution_count": null,
   "metadata": {},
   "outputs": [],
   "source": []
  }
 ],
 "metadata": {
  "colab": {
   "collapsed_sections": [],
   "name": "PL",
   "provenance": []
  },
  "kernelspec": {
   "display_name": "Python 3",
   "language": "python",
   "name": "python3"
  },
  "language_info": {
   "codemirror_mode": {
    "name": "ipython",
    "version": 3
   },
   "file_extension": ".py",
   "mimetype": "text/x-python",
   "name": "python",
   "nbconvert_exporter": "python",
   "pygments_lexer": "ipython3",
   "version": "3.8.5"
  }
 },
 "nbformat": 4,
 "nbformat_minor": 1
}
